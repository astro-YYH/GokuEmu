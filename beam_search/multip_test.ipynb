{
 "cells": [
  {
   "cell_type": "code",
   "execution_count": 1,
   "metadata": {},
   "outputs": [
    {
     "name": "stdout",
     "output_type": "stream",
     "text": [
      "Date and time: 2023-12-18 11:42:33.935634\n",
      "len_slice  n_select_slc  beams  n_optimization_restarts  output_file\n",
      "3 2 8 10 best_slices_test.txt\n",
      "Redshifts:  [0.  0.2 0.5 1.  2.  3. ]\n"
     ]
    }
   ],
   "source": [
    "# print all the choices of slices (not only the best one)\n",
    "\n",
    "import sys\n",
    "# sys.path.append(\"/work2/01317/yyang440/frontera/matter_emu_dgmgp/\")\n",
    "sys.path.append(\"/rhome/yyang440/bigdata/matter_emu_dgmgp-MF-Box-yanhui\")\n",
    "\n",
    "# command: python beam_search.py --beams=1 --n_optimization_restarts=3\n",
    "\n",
    "import argparse\n",
    "import numpy as np\n",
    "# from matplotlib import pyplot as plt\n",
    "\n",
    "import datetime\n",
    "import time\n",
    "\n",
    "from matter_multi_fidelity_emu.data_loader import PowerSpecsMultiRedshift\n",
    "\n",
    "# from matter_multi_fidelity_emu.gpemulator_singlebin import _map_params_to_unit_cube as input_normalize\n",
    "\n",
    "from trainset_optimize.optimize import select_slices_redshifts\n",
    "\n",
    "def write_output(file_path, output):\n",
    "    with open(file_path, 'a+') as file:\n",
    "        file.seek(0)\n",
    "        content = file.read()\n",
    "        if len(content) == 0:\n",
    "            file.write(\"# 1. len_slice  2. n_select_slc  3. beams  4. n_optimization_restarts  5. best slices  6. best points  7. loss (variance)  8. time spent (min)\\n\")\n",
    "        file.write(output + \"\\n\")\n",
    "\n",
    "def slc_ind(points, len_slc):\n",
    "    ind_slc = []\n",
    "    for slc in points:\n",
    "        ind = int(slc[0] / len_slc)\n",
    "        ind_slc.append(ind)\n",
    "    return ind_slc\n",
    "\n",
    "\n",
    "print(\"Date and time:\", datetime.datetime.now())\n",
    "start_time = time.time()\n",
    "# set a random number seed to reproducibility\n",
    "np.random.seed(0)\n",
    "\n",
    "# from itertools import combinations\n",
    "\n",
    "# from trainset_optimize.optmize import TrainSetOptimize\n",
    "# from trainset_optimize.optmize import select_slices\n",
    "\n",
    "\n",
    "X_file = \"train_input.txt\"\n",
    "Y_base = \"train_output\"\n",
    "data_folder = \"/rhome/yyang440/bigdata/tentative_sims/data_for_emu/cosmo_11p_Box100_Part75_data\"\n",
    "\n",
    "len_slice = 3\n",
    "n_select_slc = 2\n",
    "beams = 8\n",
    "n_optimization_restarts = 10\n",
    "output_file = \"best_slices_test.txt\"\n",
    "print_all = 1\n",
    "parallel_redshift = 1\n",
    "\n",
    "print(\"len_slice  n_select_slc  beams  n_optimization_restarts  output_file\")\n",
    "print(len_slice, n_select_slc, beams, n_optimization_restarts, output_file)\n",
    "\n",
    "data = PowerSpecsMultiRedshift(folder=data_folder, X_file=X_file, Y_base=Y_base)\n",
    "\n",
    "X = data.X_norm\n",
    "Y = data.Y\n",
    "\n",
    "scale_factors = data.scale_factors\n",
    "redshifts = 1 / scale_factors - 1\n",
    "redshifts = np.round(redshifts, decimals=1)\n",
    "print(\"Redshifts: \", redshifts)\n",
    "\n"
   ]
  },
  {
   "cell_type": "code",
   "execution_count": 2,
   "metadata": {},
   "outputs": [],
   "source": [
    "from trainset_optimize.optimize import *\n",
    "\n",
    "train_opt_zs = []\n",
    "for y in Y:\n",
    "    train_opt_zs.append(TrainSetOptimize(X=X, Y=y))"
   ]
  },
  {
   "cell_type": "code",
   "execution_count": 3,
   "metadata": {},
   "outputs": [],
   "source": [
    "num_samples = X.shape[0]\n",
    "ind = np.zeros(num_samples, dtype=bool)\n",
    "ind[[3,4,5]] = True\n",
    "\n",
    "# loss = loss_redshifts(train_opt_zs, ind, n_optimization_restarts=n_optimization_restarts, parallel=0)\n",
    "\n",
    "# print(\"loss =\",loss)"
   ]
  },
  {
   "cell_type": "code",
   "execution_count": 4,
   "metadata": {},
   "outputs": [],
   "source": [
    "# loss = loss_redshifts(train_opt_zs, ind, n_optimization_restarts=30, parallel=0)\n",
    "\n",
    "# print(\"loss =\",loss)"
   ]
  },
  {
   "cell_type": "code",
   "execution_count": 5,
   "metadata": {},
   "outputs": [
    {
     "name": "stdout",
     "output_type": "stream",
     "text": [
      "Optimization restart 1/10, f = 0.36381674938928654\n",
      "Optimization restart 2/10, f = 0.3638167475922387\n",
      "Optimization restart 3/10, f = 0.3638167475736509\n",
      "Optimization restart 4/10, f = 0.36381674760224314\n",
      "Optimization restart 5/10, f = 482.2936584415863\n",
      "Optimization restart 6/10, f = 160.57230188328163\n"
     ]
    },
    {
     "name": "stderr",
     "output_type": "stream",
     "text": [
      " /rhome/yyang440/bigdata/anaconda3/envs/gpy-env/lib/python3.8/site-packages/GPy/kern/src/stationary.py:243: RuntimeWarning:invalid value encountered in divide\n"
     ]
    },
    {
     "name": "stdout",
     "output_type": "stream",
     "text": [
      "Optimization restart 7/10, f = 18.319319580354374\n",
      "Optimization restart 8/10, f = 13.978154627675622\n"
     ]
    },
    {
     "name": "stderr",
     "output_type": "stream",
     "text": [
      " /rhome/yyang440/bigdata/anaconda3/envs/gpy-env/lib/python3.8/site-packages/GPy/kern/src/stationary.py:137: RuntimeWarning:overflow encountered in square\n",
      " /rhome/yyang440/bigdata/anaconda3/envs/gpy-env/lib/python3.8/site-packages/GPy/kern/src/stationary.py:138: RuntimeWarning:invalid value encountered in add\n"
     ]
    },
    {
     "name": "stdout",
     "output_type": "stream",
     "text": [
      "Optimization restart 9/10, f = 0.3638167475893397\n",
      "Optimization restart 10/10, f = 12.821134460520966\n",
      "calculating loss\n",
      "0.06361934560202892\n"
     ]
    }
   ],
   "source": [
    "train_opt = TrainSetOptimize(X=X, Y=Y[0])\n",
    "loss = train_opt.loss(ind, n_optimization_restarts=n_optimization_restarts)\n",
    "print(loss)"
   ]
  },
  {
   "cell_type": "code",
   "execution_count": null,
   "metadata": {},
   "outputs": [],
   "source": [
    "id(train_opt)"
   ]
  },
  {
   "cell_type": "code",
   "execution_count": 10,
   "metadata": {},
   "outputs": [
    {
     "name": "stdout",
     "output_type": "stream",
     "text": [
      "Optimization restart 1/10, f = 0.36381674938928654\n",
      "Optimization restart 2/10, f = 13.978177912882302\n",
      "Optimization restart 3/10, f = 18.31979043017901\n",
      "Optimization restart 4/10, f = 0.36381674757421933\n",
      "Optimization restart 5/10, f = 0.3638167476101444\n",
      "Optimization restart 6/10, f = 482.2936764432245\n",
      "Optimization restart 7/10, f = 0.3638167476646572\n",
      "Optimization restart 8/10, f = 482.2936764432248\n",
      "Optimization restart 9/10, f = 0.3638167476545391\n",
      "Optimization restart 10/10, f = 16.374270693289645\n",
      "calculating loss\n",
      "0.061469627405183545\n"
     ]
    }
   ],
   "source": [
    "train_opt = TrainSetOptimize(X=X, Y=Y[0])\n",
    "loss = train_opt.loss(ind, n_optimization_restarts=n_optimization_restarts)\n",
    "print(loss)"
   ]
  },
  {
   "cell_type": "code",
   "execution_count": 11,
   "metadata": {},
   "outputs": [
    {
     "data": {
      "text/plain": [
       "140101166582752"
      ]
     },
     "execution_count": 11,
     "metadata": {},
     "output_type": "execute_result"
    }
   ],
   "source": [
    "id(train_opt)"
   ]
  },
  {
   "cell_type": "code",
   "execution_count": 7,
   "metadata": {},
   "outputs": [],
   "source": [
    "# ind_selected, loss = select_slices_redshifts(X, Y, len_slice=len_slice, n_select_slc=n_select_slc, beams=beams, n_optimization_restarts=n_optimization_restarts, print_all=print_all, parallel_redshift=parallel_redshift)\n",
    "# # ind_selected, loss = select_slices(X, Y, len_slice=3, n_select_slc=3, beams=1, n_optimization_restarts=3)\n",
    "# # print(\"Selected indices:\", ind_selected)\n",
    "# # print(\"Loss:\", loss)\n",
    "\n",
    "# end_time = time.time()\n",
    "# elapsed_time = (end_time - start_time) / 60\n",
    "\n",
    "\n",
    "\n",
    "# if not print_all:\n",
    "#     ind_slc = slc_ind(ind_selected, len_slice)\n",
    "#     ind_selected = [element for row in ind_selected for element in row]\n",
    "\n",
    "#     formatted_info = \"%d  %d  %d  %d  %s  %s  %.6e %.2f\" % (len_slice, n_select_slc, beams, n_optimization_restarts, str(ind_slc), str(ind_selected), loss, elapsed_time)\n",
    "# else:\n",
    "#     for i in range(len(loss)):\n",
    "#         ind_slc_el = slc_ind(ind_selected[i], len_slice)\n",
    "#         ind_selected_el = [element for row in ind_selected[i] for element in row]\n",
    "#         if i==0:\n",
    "#             formatted_info = \"%d  %d  %d  %d  %s  %s  %.6e %.2f\" % (len_slice, n_select_slc, beams, n_optimization_restarts, str(ind_slc_el), str(ind_selected_el), loss[i], elapsed_time)\n",
    "#             continue\n",
    "#         formatted_info = formatted_info + \"\\n%d  %d  %d  %d  %s  %s  %.6e %.2f\" % (0, 0, 0, 0, str(ind_slc_el), str(ind_selected_el), loss[i], 0.)\n",
    "\n",
    "# write_output(output_file, formatted_info)\n",
    "\n",
    "# print(\"Date and time:\", datetime.datetime.now())"
   ]
  }
 ],
 "metadata": {
  "kernelspec": {
   "display_name": "Python 3",
   "language": "python",
   "name": "python3"
  },
  "language_info": {
   "codemirror_mode": {
    "name": "ipython",
    "version": 3
   },
   "file_extension": ".py",
   "mimetype": "text/x-python",
   "name": "python",
   "nbconvert_exporter": "python",
   "pygments_lexer": "ipython3",
   "version": "3.8.16"
  }
 },
 "nbformat": 4,
 "nbformat_minor": 2
}
