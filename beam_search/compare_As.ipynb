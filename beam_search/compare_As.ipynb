{
 "cells": [
  {
   "cell_type": "code",
   "execution_count": 1,
   "metadata": {},
   "outputs": [],
   "source": [
    "import matplotlib.pyplot as plt\n",
    "import numpy as np"
   ]
  },
  {
   "cell_type": "code",
   "execution_count": 2,
   "metadata": {},
   "outputs": [],
   "source": [
    "def get_As(cosmo_param_file, comb_points):\n",
    "    As_all = np.loadtxt(cosmo_param_file, usecols=3)\n",
    "    As = As_all[comb_points]\n",
    "    return As\n",
    "\n",
    "def get_points_from_ele(elements):\n",
    "    n_leftbr = 0\n",
    "    n_rightbr = 0\n",
    "    points = []\n",
    "    i_start = len(elements)\n",
    "\n",
    "    for i in range(len(elements)):\n",
    "        if elements[i][0]=='[':\n",
    "            n_leftbr += 1\n",
    "            if n_leftbr==2:\n",
    "                i_start = i\n",
    "                points.append(int(elements[i][1:-1]))\n",
    "        elif elements[i][-1]==']':\n",
    "            n_rightbr += 1\n",
    "            if n_rightbr==2:\n",
    "                points.append(int(elements[i][:-1]))\n",
    "                break\n",
    "        elif i > i_start:\n",
    "            points.append(int(elements[i][:-1]))\n",
    "    return points\n",
    "        \n",
    "\n",
    "def read_best_slices(file_path, chains, n_opt):\n",
    "\n",
    "# Initialize empty lists to store the data\n",
    "    beams_list = []\n",
    "    n_optimization_restarts_list = []\n",
    "    best_points_list = []\n",
    "    loss_list = []\n",
    "    \n",
    "\n",
    "# Open and read the file\n",
    "    with open(file_path, 'r') as file:\n",
    "    # Skip the first line (header)\n",
    "        next(file)\n",
    "    \n",
    "    # Process each line in the file\n",
    "        for line in file:\n",
    "        # Split the line into individual elements\n",
    "            elements = line.strip().split()\n",
    "\n",
    "        # Extract data from each element\n",
    "            beams = int(elements[2])\n",
    "            best_points = get_points_from_ele(elements)\n",
    "            loss = float(elements[-2])\n",
    "            n_optimization_restarts = int(elements[3])\n",
    "        # Append the extracted data to the respective lists\n",
    "            beams_list.append(beams)\n",
    "            best_points_list.append(best_points)\n",
    "            loss_list.append(loss)\n",
    "            n_optimization_restarts_list.append(n_optimization_restarts)\n",
    "\n",
    "# Print or use the extracted data as needed\n",
    "    print(\"beams_list:\", beams_list)\n",
    "    print(\"best_points_list:\", best_points_list)\n",
    "    print(\"loss_list:\", loss_list)\n",
    "    print(\"n_optimization_restarts_list:\", n_optimization_restarts_list)\n",
    "\n",
    "    i_start = len(loss_list)\n",
    "    for i in range(len(loss_list)):\n",
    "        \n",
    "        if beams_list[i]==chains and n_optimization_restarts_list[i]==n_opt:\n",
    "            i_start = i \n",
    "        if i > i_start and beams_list[i]==0 and n_optimization_restarts_list[i]==0:\n",
    "            i_end = i \n",
    "        elif i > i_start and beams_list[i]!=0:\n",
    "            break\n",
    "\n",
    "    best_points_list = best_points_list[i_start:i_end+1]\n",
    "    loss_list = np.array(loss_list[i_start:i_end+1])\n",
    "\n",
    "    return best_points_list, loss_list\n",
    "\n",
    "\n"
   ]
  },
  {
   "cell_type": "code",
   "execution_count": 3,
   "metadata": {},
   "outputs": [
    {
     "name": "stdout",
     "output_type": "stream",
     "text": [
      "beams_list: [8, 0, 0, 0, 0, 0, 0, 0, 8, 0, 0, 0, 0, 0, 0, 0, 8, 0, 0, 0, 0, 0, 0, 0, 8, 0, 0, 0, 0, 0, 0, 0, 16, 0, 0, 0, 0, 0, 0, 0, 0, 0, 0, 0, 0, 0, 0, 0, 32, 0, 0, 0, 0, 0, 0, 0, 0, 0, 0, 0, 0, 0, 0, 0, 0, 0, 0, 0, 0, 0, 0, 0, 0, 0, 0, 0, 0, 0, 0, 0]\n",
      "best_points_list: [[996, 997, 998, 999, 940, 941, 942, 943], [452, 453, 454, 455, 420, 421, 422, 423], [1076, 1077, 1078, 1079, 736, 737, 738, 739], [424, 425, 426, 427, 1048, 1049, 1050, 1051], [1008, 1009, 1010, 1011, 416, 417, 418, 419], [64, 65, 66, 67, 92, 93, 94, 95], [648, 649, 650, 651, 416, 417, 418, 419], [268, 269, 270, 271, 428, 429, 430, 431], [996, 997, 998, 999, 940, 941, 942, 943], [328, 329, 330, 331, 212, 213, 214, 215], [1028, 1029, 1030, 1031, 144, 145, 146, 147], [1076, 1077, 1078, 1079, 736, 737, 738, 739], [64, 65, 66, 67, 92, 93, 94, 95], [424, 425, 426, 427, 772, 773, 774, 775], [948, 949, 950, 951, 736, 737, 738, 739], [648, 649, 650, 651, 812, 813, 814, 815], [996, 997, 998, 999, 940, 941, 942, 943], [1028, 1029, 1030, 1031, 144, 145, 146, 147], [1076, 1077, 1078, 1079, 160, 161, 162, 163], [64, 65, 66, 67, 92, 93, 94, 95], [328, 329, 330, 331, 816, 817, 818, 819], [648, 649, 650, 651, 812, 813, 814, 815], [948, 949, 950, 951, 604, 605, 606, 607], [424, 425, 426, 427, 536, 537, 538, 539], [996, 997, 998, 999, 940, 941, 942, 943], [1028, 1029, 1030, 1031, 144, 145, 146, 147], [1076, 1077, 1078, 1079, 160, 161, 162, 163], [64, 65, 66, 67, 92, 93, 94, 95], [328, 329, 330, 331, 816, 817, 818, 819], [648, 649, 650, 651, 812, 813, 814, 815], [948, 949, 950, 951, 172, 173, 174, 175], [424, 425, 426, 427, 968, 969, 970, 971], [536, 537, 538, 539, 88, 89, 90, 91], [996, 997, 998, 999, 940, 941, 942, 943], [344, 345, 346, 347, 700, 701, 702, 703], [24, 25, 26, 27, 912, 913, 914, 915], [1028, 1029, 1030, 1031, 144, 145, 146, 147], [1076, 1077, 1078, 1079, 160, 161, 162, 163], [828, 829, 830, 831, 464, 465, 466, 467], [728, 729, 730, 731, 1008, 1009, 1010, 1011], [64, 65, 66, 67, 92, 93, 94, 95], [328, 329, 330, 331, 816, 817, 818, 819], [624, 625, 626, 627, 212, 213, 214, 215], [308, 309, 310, 311, 968, 969, 970, 971], [648, 649, 650, 651, 812, 813, 814, 815], [124, 125, 126, 127, 232, 233, 234, 235], [948, 949, 950, 951, 604, 605, 606, 607], [424, 425, 426, 427, 536, 537, 538, 539], [536, 537, 538, 539, 88, 89, 90, 91], [172, 173, 174, 175, 140, 141, 142, 143], [996, 997, 998, 999, 940, 941, 942, 943], [908, 909, 910, 911, 112, 113, 114, 115], [612, 613, 614, 615, 908, 909, 910, 911], [452, 453, 454, 455, 420, 421, 422, 423], [984, 985, 986, 987, 12, 13, 14, 15], [344, 345, 346, 347, 700, 701, 702, 703], [24, 25, 26, 27, 912, 913, 914, 915], [232, 233, 234, 235, 212, 213, 214, 215], [4, 5, 6, 7, 184, 185, 186, 187], [1028, 1029, 1030, 1031, 144, 145, 146, 147], [92, 93, 94, 95, 352, 353, 354, 355], [1076, 1077, 1078, 1079, 160, 161, 162, 163], [632, 633, 634, 635, 808, 809, 810, 811], [828, 829, 830, 831, 464, 465, 466, 467], [476, 477, 478, 479, 644, 645, 646, 647], [728, 729, 730, 731, 1008, 1009, 1010, 1011], [64, 65, 66, 67, 92, 93, 94, 95], [328, 329, 330, 331, 816, 817, 818, 819], [488, 489, 490, 491, 604, 605, 606, 607], [356, 357, 358, 359, 184, 185, 186, 187], [960, 961, 962, 963, 792, 793, 794, 795], [624, 625, 626, 627, 212, 213, 214, 215], [440, 441, 442, 443, 892, 893, 894, 895], [308, 309, 310, 311, 968, 969, 970, 971], [648, 649, 650, 651, 812, 813, 814, 815], [124, 125, 126, 127, 232, 233, 234, 235], [136, 137, 138, 139, 908, 909, 910, 911], [948, 949, 950, 951, 604, 605, 606, 607], [880, 881, 882, 883, 160, 161, 162, 163], [424, 425, 426, 427, 536, 537, 538, 539]]\n",
      "loss_list: [0.009546301, 0.01030908, 0.01145736, 0.01198148, 0.01210954, 0.01227265, 0.01229769, 0.0142736, 0.0095463, 0.009653095, 0.01117284, 0.01141343, 0.01221809, 0.01311998, 0.0131409, 0.01333871, 0.009544314, 0.01117284, 0.01152181, 0.01211163, 0.01227049, 0.01333881, 0.01408723, 0.01492242, 0.009540896, 0.01117286, 0.01154112, 0.01211152, 0.01241066, 0.01333878, 0.01499174, 0.01630017, 0.008887302, 0.009544314, 0.01066159, 0.01074121, 0.01117284, 0.01152181, 0.0119259, 0.0121016, 0.01211163, 0.01227049, 0.01251001, 0.01300261, 0.01333881, 0.01357608, 0.01408723, 0.01492242, 0.008887302, 0.009444186, 0.009544314, 0.009913754, 0.009917462, 0.01015787, 0.01018285, 0.01066159, 0.01074121, 0.01095935, 0.01108055, 0.01117284, 0.01133359, 0.01152181, 0.01175288, 0.0119259, 0.01208091, 0.0121016, 0.01211163, 0.01227049, 0.01227682, 0.01235238, 0.01244508, 0.01251001, 0.0128638, 0.01300261, 0.01333881, 0.01357608, 0.01384145, 0.01408723, 0.01425773, 0.01492242]\n",
      "n_optimization_restarts_list: [5, 0, 0, 0, 0, 0, 0, 0, 10, 0, 0, 0, 0, 0, 0, 0, 20, 0, 0, 0, 0, 0, 0, 0, 30, 0, 0, 0, 0, 0, 0, 0, 20, 0, 0, 0, 0, 0, 0, 0, 0, 0, 0, 0, 0, 0, 0, 0, 20, 0, 0, 0, 0, 0, 0, 0, 0, 0, 0, 0, 0, 0, 0, 0, 0, 0, 0, 0, 0, 0, 0, 0, 0, 0, 0, 0, 0, 0, 0, 0]\n"
     ]
    }
   ],
   "source": [
    "cosmo_param_file = \"/bigdata/birdlab/yyang440/cosmo_11p_sims/data_for_emu/cosmo_11p_Box250_Part750_data/train_input.txt\"\n",
    "file = \"best_slices.txt\"\n",
    "\n",
    "chains = 32\n",
    "n_opt = 20\n",
    "\n",
    "comb_points, losses = read_best_slices(file, chains, n_opt)\n"
   ]
  },
  {
   "cell_type": "code",
   "execution_count": 4,
   "metadata": {},
   "outputs": [],
   "source": [
    "As = get_As(cosmo_param_file, comb_points) # "
   ]
  },
  {
   "cell_type": "code",
   "execution_count": 5,
   "metadata": {},
   "outputs": [
    {
     "data": {
      "text/plain": [
       "array([[2.013750e-09, 2.516250e-09, 1.580893e-09, 2.130536e-09,\n",
       "        2.088750e-09, 2.687679e-09, 2.203393e-09, 1.517679e-09],\n",
       "       [1.629107e-09, 2.546250e-09, 1.841250e-09, 2.240893e-09,\n",
       "        2.195893e-09, 2.674821e-09, 1.799464e-09, 1.932321e-09],\n",
       "       [2.193750e-09, 1.691250e-09, 2.635179e-09, 2.001964e-09,\n",
       "        2.506607e-09, 1.647321e-09, 2.251607e-09, 2.045893e-09],\n",
       "       [2.024464e-09, 2.429464e-09, 1.784464e-09, 2.218393e-09,\n",
       "        2.074821e-09, 2.515179e-09, 1.675179e-09, 2.231250e-09],\n",
       "       [1.704107e-09, 2.201250e-09, 2.409107e-09, 1.965536e-09,\n",
       "        2.024464e-09, 2.429464e-09, 1.784464e-09, 2.218393e-09],\n",
       "       [1.821964e-09, 2.241964e-09, 1.510179e-09, 2.579464e-09,\n",
       "        2.518393e-09, 2.052321e-09, 1.664464e-09, 2.247321e-09],\n",
       "       [1.985893e-09, 2.477679e-09, 1.698750e-09, 2.348036e-09,\n",
       "        2.020179e-09, 1.677321e-09, 2.446607e-09, 2.144464e-09],\n",
       "       [1.648393e-09, 2.586964e-09, 2.139107e-09, 1.990179e-09,\n",
       "        1.765179e-09, 2.668393e-09, 2.081250e-09, 2.150893e-09],\n",
       "       [2.300893e-09, 1.626964e-09, 2.681250e-09, 1.818750e-09,\n",
       "        1.722321e-09, 2.633036e-09, 2.214107e-09, 1.836964e-09],\n",
       "       [1.847679e-09, 2.131607e-09, 2.468036e-09, 1.744821e-09,\n",
       "        2.350179e-09, 1.866964e-09, 2.483036e-09, 1.656964e-09],\n",
       "       [1.785536e-09, 1.864821e-09, 2.419821e-09, 2.176607e-09,\n",
       "        2.447679e-09, 1.513393e-09, 2.069464e-09, 2.202321e-09],\n",
       "       [1.665536e-09, 2.648036e-09, 1.946250e-09, 2.292321e-09,\n",
       "        2.151964e-09, 2.510893e-09, 1.828393e-09, 1.662321e-09],\n",
       "       [1.708393e-09, 2.248393e-09, 1.918393e-09, 2.689821e-09,\n",
       "        2.290179e-09, 2.589107e-09, 1.812321e-09, 1.599107e-09],\n",
       "       [2.055536e-09, 2.166964e-09, 2.621250e-09, 1.766250e-09,\n",
       "        2.143393e-09, 2.685536e-09, 1.562679e-09, 2.090893e-09],\n",
       "       [2.200179e-09, 2.628750e-09, 1.920536e-09, 1.625893e-09,\n",
       "        2.006250e-09, 1.714821e-09, 2.584821e-09, 2.215179e-09],\n",
       "       [1.630179e-09, 2.614821e-09, 2.271964e-09, 1.891607e-09,\n",
       "        2.620179e-09, 2.018036e-09, 1.620536e-09, 2.101607e-09],\n",
       "       [2.530179e-09, 2.339464e-09, 1.961250e-09, 1.553036e-09,\n",
       "        1.996607e-09, 1.742679e-09, 2.165893e-09, 2.562321e-09],\n",
       "       [1.667679e-09, 2.309464e-09, 2.504464e-09, 1.903393e-09,\n",
       "        1.536964e-09, 2.015893e-09, 2.161607e-09, 2.613750e-09],\n",
       "       [2.425179e-09, 1.823036e-09, 2.278393e-09, 1.540179e-09,\n",
       "        1.708393e-09, 2.248393e-09, 1.918393e-09, 2.689821e-09],\n",
       "       [2.089821e-09, 2.653393e-09, 1.512321e-09, 2.198036e-09,\n",
       "        1.834821e-09, 2.601964e-09, 2.333036e-09, 1.759821e-09],\n",
       "       [1.793036e-09, 2.219464e-09, 1.925893e-09, 2.427321e-09,\n",
       "        1.904464e-09, 1.514464e-09, 2.697321e-09, 2.356607e-09],\n",
       "       [1.608750e-09, 1.984821e-09, 2.466964e-09, 2.343750e-09,\n",
       "        2.447679e-09, 1.513393e-09, 2.069464e-09, 2.202321e-09],\n",
       "       [2.373750e-09, 1.531607e-09, 2.592321e-09, 1.857321e-09,\n",
       "        2.693036e-09, 1.791964e-09, 2.199107e-09, 1.814464e-09],\n",
       "       [1.705179e-09, 2.354464e-09, 1.940893e-09, 2.404821e-09,\n",
       "        2.350179e-09, 1.866964e-09, 2.483036e-09, 1.656964e-09],\n",
       "       [1.810179e-09, 1.669821e-09, 2.508750e-09, 2.191607e-09,\n",
       "        1.930179e-09, 2.509821e-09, 1.628036e-09, 2.265536e-09],\n",
       "       [2.626607e-09, 1.820893e-09, 2.149821e-09, 1.551964e-09,\n",
       "        1.772679e-09, 2.375893e-09, 2.637321e-09, 1.898036e-09],\n",
       "       [1.846607e-09, 1.565893e-09, 2.569821e-09, 2.238750e-09,\n",
       "        1.641964e-09, 2.398393e-09, 2.541964e-09, 1.911964e-09],\n",
       "       [2.636250e-09, 1.634464e-09, 1.978393e-09, 2.140179e-09,\n",
       "        1.847679e-09, 2.131607e-09, 2.468036e-09, 1.744821e-09],\n",
       "       [2.105893e-09, 1.636607e-09, 2.622321e-09, 2.097321e-09,\n",
       "        2.024464e-09, 2.429464e-09, 1.784464e-09, 2.218393e-09],\n",
       "       [2.588036e-09, 1.779107e-09, 2.222679e-09, 1.830536e-09,\n",
       "        1.904464e-09, 1.514464e-09, 2.697321e-09, 2.356607e-09],\n",
       "       [2.067321e-09, 2.171250e-09, 1.681607e-09, 2.616964e-09,\n",
       "        2.143393e-09, 2.685536e-09, 1.562679e-09, 2.090893e-09],\n",
       "       [2.185179e-09, 2.051250e-09, 2.552679e-09, 1.516607e-09,\n",
       "        2.013750e-09, 2.516250e-09, 1.580893e-09, 2.130536e-09]])"
      ]
     },
     "execution_count": 5,
     "metadata": {},
     "output_type": "execute_result"
    }
   ],
   "source": [
    "As"
   ]
  },
  {
   "cell_type": "code",
   "execution_count": 6,
   "metadata": {},
   "outputs": [
    {
     "data": {
      "text/plain": [
       "(32, 8)"
      ]
     },
     "execution_count": 6,
     "metadata": {},
     "output_type": "execute_result"
    }
   ],
   "source": [
    "As.shape"
   ]
  },
  {
   "cell_type": "code",
   "execution_count": 7,
   "metadata": {},
   "outputs": [
    {
     "data": {
      "text/plain": [
       "array([2.013750e-09, 2.516250e-09, 1.580893e-09, 2.130536e-09,\n",
       "       2.088750e-09, 2.687679e-09, 2.203393e-09, 1.517679e-09])"
      ]
     },
     "execution_count": 7,
     "metadata": {},
     "output_type": "execute_result"
    }
   ],
   "source": [
    "As[0,:]"
   ]
  },
  {
   "cell_type": "code",
   "execution_count": 8,
   "metadata": {},
   "outputs": [
    {
     "data": {
      "text/plain": [
       "array([2.013750e-09, 1.629107e-09, 2.193750e-09, 2.024464e-09,\n",
       "       1.704107e-09, 1.821964e-09, 1.985893e-09, 1.648393e-09,\n",
       "       2.300893e-09, 1.847679e-09, 1.785536e-09, 1.665536e-09,\n",
       "       1.708393e-09, 2.055536e-09, 2.200179e-09, 1.630179e-09,\n",
       "       2.530179e-09, 1.667679e-09, 2.425179e-09, 2.089821e-09,\n",
       "       1.793036e-09, 1.608750e-09, 2.373750e-09, 1.705179e-09,\n",
       "       1.810179e-09, 2.626607e-09, 1.846607e-09, 2.636250e-09,\n",
       "       2.105893e-09, 2.588036e-09, 2.067321e-09, 2.185179e-09])"
      ]
     },
     "execution_count": 8,
     "metadata": {},
     "output_type": "execute_result"
    }
   ],
   "source": [
    "As[:,0]"
   ]
  },
  {
   "cell_type": "code",
   "execution_count": 9,
   "metadata": {},
   "outputs": [
    {
     "data": {
      "text/plain": [
       "2.107499875e-09"
      ]
     },
     "execution_count": 9,
     "metadata": {},
     "output_type": "execute_result"
    }
   ],
   "source": [
    "As[1].mean()"
   ]
  },
  {
   "cell_type": "code",
   "execution_count": 10,
   "metadata": {},
   "outputs": [],
   "source": [
    "As_mean = np.mean(As, axis=1)"
   ]
  },
  {
   "cell_type": "code",
   "execution_count": 11,
   "metadata": {},
   "outputs": [
    {
     "data": {
      "text/plain": [
       "array([2.09236625e-09, 2.10749987e-09, 2.12169638e-09, 2.11915175e-09,\n",
       "       2.09209813e-09, 2.07950875e-09, 2.09986612e-09, 2.12879475e-09,\n",
       "       2.10428562e-09, 2.06866075e-09, 2.05995525e-09, 2.08821425e-09,\n",
       "       2.10696425e-09, 2.13656262e-09, 2.11205363e-09, 2.09611613e-09,\n",
       "       2.10642863e-09, 2.08915175e-09, 2.07897338e-09, 2.12290162e-09,\n",
       "       2.10482125e-09, 2.07964275e-09, 2.10669625e-09, 2.09531250e-09,\n",
       "       2.06424112e-09, 2.10415175e-09, 2.08941950e-09, 2.07267862e-09,\n",
       "       2.11486588e-09, 2.11165175e-09, 2.12745537e-09, 2.06839300e-09])"
      ]
     },
     "execution_count": 11,
     "metadata": {},
     "output_type": "execute_result"
    }
   ],
   "source": [
    "As_mean"
   ]
  },
  {
   "cell_type": "code",
   "execution_count": 14,
   "metadata": {},
   "outputs": [
    {
     "data": {
      "image/png": "[encoded data removed]",
      "text/plain": [
       "<Figure size 700x700 with 2 Axes>"
      ]
     },
     "metadata": {},
     "output_type": "display_data"
    }
   ],
   "source": [
    "\n",
    "\n",
    "# Create some sample data\n",
    "\n",
    "N_comb = len(As)\n",
    "\n",
    "combs = np.arange(1, N_comb+1)\n",
    "\n",
    "# Create a figure and two subplots (panels) sharing the x-axis\n",
    "fig, (ax1, ax2) = plt.subplots(2, 1, sharex=True, figsize=(7,7))\n",
    "\n",
    "# Plot data on the upper panel (ax1)\n",
    "ax1.scatter(combs, losses, color='blue', marker='o')\n",
    "# ax1.set_title('Upper Panel')\n",
    "# ax1.legend()\n",
    "\n",
    "# Plot data on the lower panel (ax2)\n",
    "N_point = len(As[0])\n",
    "\n",
    "for i in range(N_point):  # N_point  (per comb)\n",
    "    if i == 0:\n",
    "        ax2.scatter(combs, As[:,i], label='design point', color='red', marker='.')\n",
    "    ax2.scatter(combs, As[:,i], color='red', marker='.')\n",
    "\n",
    "ax2.scatter(combs, As_mean, label=\"mean\", color='green', marker='x')\n",
    "\n",
    "# ax2.set_title('Lower Panel')\n",
    "ax2.legend()\n",
    "ax2.set_ylim([.8*As.min(),1.2*As.max()])\n",
    "\n",
    "ax1.set_ylim([.9*losses.min(),1.1*losses.max()])\n",
    "\n",
    "# Add labels to the x-axis and y-axes\n",
    "# fig.suptitle('Two Panels with Shared X-axis')\n",
    "ax2.set_xlabel('Combination')\n",
    "ax1.set_ylabel('loss (MSE)')\n",
    "ax2.set_ylabel(r'$A_\\mathrm{s}$')\n",
    "\n",
    "# Adjust layout for better spacing\n",
    "plt.tight_layout()\n",
    "plt.subplots_adjust(hspace=0.0)\n",
    "\n",
    "# Show the plot\n",
    "plt.show()\n"
   ]
  },
  {
   "cell_type": "code",
   "execution_count": 13,
   "metadata": {},
   "outputs": [
    {
     "data": {
      "text/plain": [
       "array([ 1,  2,  3,  4,  5,  6,  7,  8,  9, 10, 11, 12, 13, 14, 15, 16, 17,\n",
       "       18, 19, 20, 21, 22, 23, 24, 25, 26, 27, 28, 29, 30, 31, 32])"
      ]
     },
     "execution_count": 13,
     "metadata": {},
     "output_type": "execute_result"
    }
   ],
   "source": [
    "combs"
   ]
  },
  {
   "cell_type": "code",
   "execution_count": null,
   "metadata": {},
   "outputs": [],
   "source": []
  }
 ],
 "metadata": {
  "kernelspec": {
   "display_name": "Python 3",
   "language": "python",
   "name": "python3"
  },
  "language_info": {
   "codemirror_mode": {
    "name": "ipython",
    "version": 3
   },
   "file_extension": ".py",
   "mimetype": "text/x-python",
   "name": "python",
   "nbconvert_exporter": "python",
   "pygments_lexer": "ipython3",
   "version": "3.8.16"
  }
 },
 "nbformat": 4,
 "nbformat_minor": 2
}
