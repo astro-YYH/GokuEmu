{
 "cells": [
  {
   "cell_type": "code",
   "execution_count": 16,
   "metadata": {},
   "outputs": [],
   "source": [
    "from scipy.optimize import minimize\n",
    "import numpy as np"
   ]
  },
  {
   "cell_type": "code",
   "execution_count": 17,
   "metadata": {},
   "outputs": [],
   "source": [
    "# error function parameters  modes\n",
    "eta = 1.62843649e-02\n",
    "'''rho = pm.Uniform(\"rho\", lower=0, upper=10)\n",
    "beta_L = pm.Uniform(\"beta_L\", lower=0, upper=3)\n",
    "beta_H = pm.Uniform(\"beta_H\", lower=0, upper=6)'''\n",
    "rho = 8.65281578e+02\n",
    "beta_L = 1.46743745e+00\n",
    "beta_H = 1.13711515e+00\n",
    "# rho_2 = pm.Uniform(\"rho_2\", lower=0, upper=1)\n",
    "beta_H2 = 1.97072336e-01\n",
    "# alpha_1 = pm.Normal(\"alpha_1\", mu=10, sigma=5)\n",
    "alpha_L = 2.06906956e+01 \n",
    "alpha_1 = 1.16169405e+01\n",
    "alpha_2 = -2.66444760e+00\n",
    "\n",
    "sigma_lg_Phi = 7.68996799e-02   # standard deviation of the log of the error function\n",
    "\n",
    "# computational cost\n",
    "C_L = (0.02092 + 0.04517)*56 # CPU hours # 1.97  # C_L1 + C_L2 in CPU hours\n",
    "C_H = 4.348*56  # 230.59\n",
    "\n",
    "q = C_H / C_L\n",
    "\n",
    "# objective error\n",
    "err_0 = .01 # goal error\n"
   ]
  },
  {
   "cell_type": "code",
   "execution_count": 31,
   "metadata": {},
   "outputs": [
    {
     "data": {
      "text/plain": [
       "65.78907550310181"
      ]
     },
     "execution_count": 31,
     "metadata": {},
     "output_type": "execute_result"
    }
   ],
   "source": [
    "q"
   ]
  },
  {
   "cell_type": "code",
   "execution_count": 18,
   "metadata": {},
   "outputs": [
    {
     "data": {
      "text/plain": [
       "45626.78571428572"
      ]
     },
     "execution_count": 18,
     "metadata": {},
     "output_type": "execute_result"
    }
   ],
   "source": [
    "750*(.994 + 1.845)*1200/56"
   ]
  },
  {
   "cell_type": "code",
   "execution_count": 19,
   "metadata": {},
   "outputs": [],
   "source": [
    "def err_func(n_LF, n_HF):\n",
    "    Phi = eta * (rho / ( (n_LF + n_HF) * (n_LF + alpha_L)**(beta_L-1) * (n_HF + alpha_1)**(beta_H-1) ) + 1 / (alpha_2 + n_HF)**(beta_H2))\n",
    "    # median_Phi = 10**lg_Phi\n",
    "    return Phi\n",
    "\n",
    "def err_mean(n_LF, n_HF):\n",
    "    gamma = np.exp(1/2 * (sigma_lg_Phi * np.log(10))**2)\n",
    "    return gamma * err_func(n_LF, n_HF)\n",
    "\n",
    "def comp_bud(n_L, n_H):\n",
    "    return C_L * n_L + C_H * n_H"
   ]
  },
  {
   "cell_type": "code",
   "execution_count": 20,
   "metadata": {},
   "outputs": [
    {
     "name": "stdout",
     "output_type": "stream",
     "text": [
      "Optimal values: x = 614.8887480172884, y = 21.07246185648742\n",
      "Function value at optimal points: f(x, y) = 7406.619444474314\n"
     ]
    }
   ],
   "source": [
    "\n",
    "\n",
    "# # Define the objective function\n",
    "def objective(vars):\n",
    "    n_L, n_H = vars\n",
    "    return comp_bud(n_L, n_H)\n",
    "\n",
    "# Define the constraint function\n",
    "def constraint(vars):\n",
    "    n_L, n_H = vars\n",
    "    return err_mean(n_L,n_H) - err_0\n",
    "\n",
    "# Initial guess for the variables\n",
    "initial_guess = [400, 10]\n",
    "\n",
    "# Define the constraint dictionary\n",
    "con = {'type': 'eq', 'fun': constraint}\n",
    "\n",
    "# Perform the optimization\n",
    "result = minimize(objective, initial_guess, constraints=[con])\n",
    "\n",
    "# Extract the optimal values of x and y\n",
    "x_opt, y_opt = result.x\n",
    "\n",
    "print(f\"Optimal values: x = {x_opt}, y = {y_opt}\")\n",
    "print(f\"Function value at optimal points: f(x, y) = {objective((x_opt, y_opt))}\")"
   ]
  },
  {
   "cell_type": "code",
   "execution_count": 22,
   "metadata": {},
   "outputs": [
    {
     "data": {
      "text/plain": [
       "158713.2738101639"
      ]
     },
     "execution_count": 22,
     "metadata": {},
     "output_type": "execute_result"
    }
   ],
   "source": [
    "comp_bud(x_opt, y_opt) / 56 * 1200 "
   ]
  },
  {
   "cell_type": "code",
   "execution_count": 23,
   "metadata": {},
   "outputs": [
    {
     "data": {
      "text/plain": [
       "111657.00000000001"
      ]
     },
     "execution_count": 23,
     "metadata": {},
     "output_type": "execute_result"
    }
   ],
   "source": [
    "comp_bud(750, 10) / 56 * 1200 "
   ]
  },
  {
   "cell_type": "code",
   "execution_count": 24,
   "metadata": {},
   "outputs": [],
   "source": [
    "n_LF = 564\n",
    "n_HF = 21"
   ]
  },
  {
   "cell_type": "code",
   "execution_count": 25,
   "metadata": {},
   "outputs": [
    {
     "data": {
      "text/plain": [
       "0.010096500805804777"
      ]
     },
     "execution_count": 25,
     "metadata": {},
     "output_type": "execute_result"
    }
   ],
   "source": [
    "err_mean(n_LF,n_HF)"
   ]
  },
  {
   "cell_type": "code",
   "execution_count": 26,
   "metadata": {},
   "outputs": [
    {
     "data": {
      "text/plain": [
       "154299.312"
      ]
     },
     "execution_count": 26,
     "metadata": {},
     "output_type": "execute_result"
    }
   ],
   "source": [
    "comp_bud(n_LF, n_HF) / 56 * 1200"
   ]
  },
  {
   "cell_type": "code",
   "execution_count": 27,
   "metadata": {},
   "outputs": [
    {
     "data": {
      "text/plain": [
       "0.03612422365359971"
      ]
     },
     "execution_count": 27,
     "metadata": {},
     "output_type": "execute_result"
    }
   ],
   "source": [
    "err_mean(0, 66.3)"
   ]
  },
  {
   "cell_type": "code",
   "execution_count": 28,
   "metadata": {},
   "outputs": [
    {
     "data": {
      "text/plain": [
       "345926.88"
      ]
     },
     "execution_count": 28,
     "metadata": {},
     "output_type": "execute_result"
    }
   ],
   "source": [
    "comp_bud(0, 66.3) / 56 * 1200"
   ]
  },
  {
   "cell_type": "code",
   "execution_count": 29,
   "metadata": {},
   "outputs": [
    {
     "data": {
      "text/plain": [
       "(0.010946269869192593-0.007790451302149712j)"
      ]
     },
     "execution_count": 29,
     "metadata": {},
     "output_type": "execute_result"
    }
   ],
   "source": [
    "err_func(10000, 0)"
   ]
  },
  {
   "cell_type": "code",
   "execution_count": 30,
   "metadata": {},
   "outputs": [
    {
     "name": "stdout",
     "output_type": "stream",
     "text": [
      "phi at n_LF = 78, n_HF = 9: 2.49%\n",
      "C at n_LF = 78, n_HF = 9: 2480.07312 CPU hours = 44.29 node hours\n"
     ]
    }
   ],
   "source": [
    "# error function at integer n_LF and n_HF\n",
    "n_LF = 78\n",
    "n_HF = 9\n",
    "phi = eta * (rho * n_LF**(-beta_L) + n_HF**(-beta_H))\n",
    "print(\"phi at n_LF = %d, n_HF = %d:\" % (n_LF, n_HF), \"%.2f\" % (phi * 100) + \"%\")\n",
    "\n",
    "# computational cost at integer n_LF and n_HF\n",
    "cpus = 56 # frontera\n",
    "C = C_L * n_LF + C_H * n_HF\n",
    "print(\"C at n_LF = %d, n_HF = %d:\" % (n_LF, n_HF), C, \"CPU hours\", \"= %.2f\" % (C/cpus), \"node hours\")"
   ]
  },
  {
   "cell_type": "code",
   "execution_count": null,
   "metadata": {},
   "outputs": [],
   "source": []
  }
 ],
 "metadata": {
  "kernelspec": {
   "display_name": "Python 3",
   "language": "python",
   "name": "python3"
  },
  "language_info": {
   "codemirror_mode": {
    "name": "ipython",
    "version": 3
   },
   "file_extension": ".py",
   "mimetype": "text/x-python",
   "name": "python",
   "nbconvert_exporter": "python",
   "pygments_lexer": "ipython3",
   "version": "3.12.2"
  },
  "orig_nbformat": 4
 },
 "nbformat": 4,
 "nbformat_minor": 2
}
