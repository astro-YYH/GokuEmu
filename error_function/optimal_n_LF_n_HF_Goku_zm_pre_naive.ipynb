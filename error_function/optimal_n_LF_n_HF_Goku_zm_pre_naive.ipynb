{
 "cells": [
  {
   "cell_type": "code",
   "execution_count": 13,
   "metadata": {},
   "outputs": [],
   "source": [
    "from scipy.optimize import root"
   ]
  },
  {
   "cell_type": "code",
   "execution_count": 39,
   "metadata": {},
   "outputs": [],
   "source": [
    "# error function parameters\n",
    "rho = 21.927914418631985\n",
    "eta = 0.03581626191669149\n",
    "beta_L = 0.7371516706710961\n",
    "beta_H = 1.1997988599277738\n",
    "\n",
    "# computational cost\n",
    "C_L = (0.0178 + 0.0329)*56 # CPU hours # 1.97  # C_L1 + C_L2 in CPU hours\n",
    "C_H = 3.19*56  # 230.59\n",
    "\n",
    "# objective error\n",
    "phi_0 = .007\n"
   ]
  },
  {
   "cell_type": "code",
   "execution_count": 40,
   "metadata": {},
   "outputs": [
    {
     "name": "stdout",
     "output_type": "stream",
     "text": [
      "Root: [975.4785186]\n"
     ]
    }
   ],
   "source": [
    "# solving for optimal n_LF and n_HF\n",
    "\n",
    "# solve for n_LF\n",
    "def equation_to_solve(x, rho=rho, eta=eta, beta_L=beta_L, beta_H=beta_H, C_L=C_L, C_H=C_H, phi_0=phi_0):\n",
    "    return rho * eta * x**(-beta_L) + eta * ((C_L * beta_H)/(rho * C_H * beta_L))**(-beta_H/(1 + beta_H)) * x**(-beta_H * (1 + beta_L)/(1 + beta_H)) - phi_0\n",
    "\n",
    "result = root(equation_to_solve, x0=100.0)\n",
    "if result.success:\n",
    "    root_value = result.x\n",
    "    print(\"Root:\", root_value)\n",
    "else:\n",
    "    print(\"Root finding did not converge.\")\n",
    "\n",
    "n_LF = root_value\n",
    "\n",
    "# solve for n_HF\n",
    "n_HF = ((C_L * beta_H)/(rho * C_H * beta_L))**(1/(1 + beta_H)) * n_LF**((1 + beta_L)/(1 + beta_H))\n"
   ]
  },
  {
   "cell_type": "code",
   "execution_count": 41,
   "metadata": {},
   "outputs": [
    {
     "name": "stdout",
     "output_type": "stream",
     "text": [
      "n_LF: [975.4785186]\n",
      "n_HF: [10.70065878]\n"
     ]
    }
   ],
   "source": [
    "# results\n",
    "print(\"n_LF:\", n_LF)\n",
    "print(\"n_HF:\", n_HF)"
   ]
  },
  {
   "cell_type": "code",
   "execution_count": 42,
   "metadata": {},
   "outputs": [
    {
     "name": "stdout",
     "output_type": "stream",
     "text": [
      "phi at n_LF = 975, n_HF = 10: 0.72%\n",
      "C at n_LF = 975, n_HF = 10: 4554.62 CPU hours = 81.33 node hours\n"
     ]
    }
   ],
   "source": [
    "# error function at integer n_LF and n_HF\n",
    "n_LF = int(n_LF[0])\n",
    "n_HF = int(n_HF[0])\n",
    "phi = eta * (rho * n_LF**(-beta_L) + n_HF**(-beta_H))\n",
    "print(\"phi at n_LF = %d, n_HF = %d:\" % (n_LF, n_HF), \"%.2f\" % (phi * 100) + \"%\")\n",
    "\n",
    "# computational cost at integer n_LF and n_HF\n",
    "cpus = 56 # frontera\n",
    "C = C_L * n_LF + C_H * n_HF\n",
    "print(\"C at n_LF = %d, n_HF = %d:\" % (n_LF, n_HF), C, \"CPU hours\", \"= %.2f\" % (C/cpus), \"node hours\")"
   ]
  },
  {
   "cell_type": "code",
   "execution_count": 44,
   "metadata": {},
   "outputs": [
    {
     "name": "stdout",
     "output_type": "stream",
     "text": [
      "phi at n_LF = 972, n_HF = 9: 0.75%\n",
      "C at n_LF = 972, n_HF = 9: 4367.4624 CPU hours = 77.99 node hours\n"
     ]
    }
   ],
   "source": [
    "# error function at integer n_LF and n_HF\n",
    "n_LF = 972\n",
    "n_HF = 9\n",
    "phi = eta * (rho * n_LF**(-beta_L) + n_HF**(-beta_H))\n",
    "print(\"phi at n_LF = %d, n_HF = %d:\" % (n_LF, n_HF), \"%.2f\" % (phi * 100) + \"%\")\n",
    "\n",
    "# computational cost at integer n_LF and n_HF\n",
    "cpus = 56 # frontera\n",
    "C = C_L * n_LF + C_H * n_HF\n",
    "print(\"C at n_LF = %d, n_HF = %d:\" % (n_LF, n_HF), C, \"CPU hours\", \"= %.2f\" % (C/cpus), \"node hours\")"
   ]
  },
  {
   "cell_type": "code",
   "execution_count": null,
   "metadata": {},
   "outputs": [],
   "source": []
  }
 ],
 "metadata": {
  "kernelspec": {
   "display_name": "Python 3",
   "language": "python",
   "name": "python3"
  },
  "language_info": {
   "codemirror_mode": {
    "name": "ipython",
    "version": 3
   },
   "file_extension": ".py",
   "mimetype": "text/x-python",
   "name": "python",
   "nbconvert_exporter": "python",
   "pygments_lexer": "ipython3",
   "version": "3.12.2"
  },
  "orig_nbformat": 4
 },
 "nbformat": 4,
 "nbformat_minor": 2
}
