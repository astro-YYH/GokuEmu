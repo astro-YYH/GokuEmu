{
 "cells": [
  {
   "cell_type": "code",
   "execution_count": 26,
   "metadata": {},
   "outputs": [],
   "source": [
    "from scipy.optimize import minimize\n",
    "import numpy as np"
   ]
  },
  {
   "cell_type": "code",
   "execution_count": 27,
   "metadata": {},
   "outputs": [],
   "source": [
    "# error function parameters  modes\n",
    "eta = 9.180582707595432\n",
    "'''rho = pm.Uniform(\"rho\", lower=0, upper=10)\n",
    "beta_L = pm.Uniform(\"beta_L\", lower=0, upper=3)\n",
    "beta_H = pm.Uniform(\"beta_H\", lower=0, upper=6)'''\n",
    "rho = 0.2043253342838957\n",
    "beta_L = 1.1851555212967242\n",
    "beta_H = 0.6769375801601656\n",
    "# rho_2 = pm.Uniform(\"rho_2\", lower=0, upper=1)\n",
    "beta_H2 = 1.9693465099568148\n",
    "# alpha_1 = pm.Normal(\"alpha_1\", mu=10, sigma=5)\n",
    "alpha_L = 10.336437586660763\n",
    "alpha_1 = 9.148634792876067\n",
    "alpha_2 = 20.68057204828696\n",
    "\n",
    "sigma_lg_Phi = 0.09505097667012101\n",
    "\n",
    "# computational cost\n",
    "C_L = .994 + 1.845  # C_L1 + C_L2 in CPU hours\n",
    "C_H = 178.813\n",
    "\n",
    "q = C_H / C_L\n",
    "\n",
    "# objective error\n",
    "err_0 = .008 # goal error\n"
   ]
  },
  {
   "cell_type": "code",
   "execution_count": 28,
   "metadata": {},
   "outputs": [],
   "source": [
    "def err_func(n_LF, n_HF):\n",
    "    Phi = eta * (rho / ( (n_LF + n_HF) * (n_LF + alpha_L)**(beta_L-1) * (n_HF + alpha_1)**(beta_H-1) ) + 1 / (alpha_2 + n_HF)**(beta_H2))\n",
    "    # median_Phi = 10**lg_Phi\n",
    "    return Phi\n",
    "\n",
    "def err_mean(n_LF, n_HF):\n",
    "    gamma = np.exp(1/2 * (sigma_lg_Phi * np.log(10))**2)\n",
    "    return gamma * err_func(n_LF, n_HF)\n",
    "\n",
    "def comp_bud(n_L, n_H):\n",
    "    return C_L * n_L + C_H * n_H"
   ]
  },
  {
   "cell_type": "code",
   "execution_count": 29,
   "metadata": {},
   "outputs": [
    {
     "name": "stdout",
     "output_type": "stream",
     "text": [
      "Optimal values: x = 716.706223907556, y = 22.51139377663635\n",
      "Function value at optimal points: f(x, y) = 6060.058825055226\n"
     ]
    }
   ],
   "source": [
    "\n",
    "\n",
    "# # Define the objective function\n",
    "def objective(vars):\n",
    "    n_L, n_H = vars\n",
    "    return comp_bud(n_L, n_H)\n",
    "\n",
    "# Define the constraint function\n",
    "def constraint(vars):\n",
    "    n_L, n_H = vars\n",
    "    return err_mean(n_L,n_H) - err_0\n",
    "\n",
    "# Initial guess for the variables\n",
    "initial_guess = [500, 20]\n",
    "\n",
    "# Define the constraint dictionary\n",
    "con = {'type': 'eq', 'fun': constraint}\n",
    "\n",
    "# Perform the optimization\n",
    "result = minimize(objective, initial_guess, constraints=[con])\n",
    "\n",
    "# Extract the optimal values of x and y\n",
    "x_opt, y_opt = result.x\n",
    "\n",
    "print(f\"Optimal values: x = {x_opt}, y = {y_opt}\")\n",
    "print(f\"Function value at optimal points: f(x, y) = {objective((x_opt, y_opt))}\")"
   ]
  },
  {
   "cell_type": "code",
   "execution_count": 30,
   "metadata": {},
   "outputs": [
    {
     "data": {
      "text/plain": [
       "108.21533616170048"
      ]
     },
     "execution_count": 30,
     "metadata": {},
     "output_type": "execute_result"
    }
   ],
   "source": [
    "comp_bud(x_opt, y_opt) / 56"
   ]
  },
  {
   "cell_type": "code",
   "execution_count": 31,
   "metadata": {},
   "outputs": [
    {
     "data": {
      "text/plain": [
       "129858.40339404058"
      ]
     },
     "execution_count": 31,
     "metadata": {},
     "output_type": "execute_result"
    }
   ],
   "source": [
    "comp_bud(x_opt, y_opt) / 56 * 1200"
   ]
  },
  {
   "cell_type": "code",
   "execution_count": 32,
   "metadata": {},
   "outputs": [],
   "source": [
    "n_LF = 564\n",
    "n_HF = 21"
   ]
  },
  {
   "cell_type": "code",
   "execution_count": 33,
   "metadata": {},
   "outputs": [
    {
     "data": {
      "text/plain": [
       "0.00911231797132653"
      ]
     },
     "execution_count": 33,
     "metadata": {},
     "output_type": "execute_result"
    }
   ],
   "source": [
    "err_mean(n_LF,n_HF)"
   ]
  },
  {
   "cell_type": "code",
   "execution_count": 34,
   "metadata": {},
   "outputs": [
    {
     "data": {
      "text/plain": [
       "114777.19285714286"
      ]
     },
     "execution_count": 34,
     "metadata": {},
     "output_type": "execute_result"
    }
   ],
   "source": [
    "comp_bud(n_LF, n_HF) / 56 * 1200"
   ]
  },
  {
   "cell_type": "code",
   "execution_count": 35,
   "metadata": {},
   "outputs": [
    {
     "data": {
      "text/plain": [
       "0.07743380559941093"
      ]
     },
     "execution_count": 35,
     "metadata": {},
     "output_type": "execute_result"
    }
   ],
   "source": [
    "err_mean(0, 66.3)"
   ]
  },
  {
   "cell_type": "code",
   "execution_count": 36,
   "metadata": {},
   "outputs": [
    {
     "data": {
      "text/plain": [
       "254042.18357142853"
      ]
     },
     "execution_count": 36,
     "metadata": {},
     "output_type": "execute_result"
    }
   ],
   "source": [
    "comp_bud(0, 66.3) / 56 * 1200"
   ]
  },
  {
   "cell_type": "code",
   "execution_count": 37,
   "metadata": {},
   "outputs": [
    {
     "data": {
      "text/plain": [
       "0.023624056310636233"
      ]
     },
     "execution_count": 37,
     "metadata": {},
     "output_type": "execute_result"
    }
   ],
   "source": [
    "err_func(10000, 0)"
   ]
  },
  {
   "cell_type": "code",
   "execution_count": 38,
   "metadata": {},
   "outputs": [
    {
     "name": "stdout",
     "output_type": "stream",
     "text": [
      "phi at n_LF = 78, n_HF = 9: 208.52%\n",
      "C at n_LF = 78, n_HF = 9: 1830.759 CPU hours = 32.69 node hours\n"
     ]
    }
   ],
   "source": [
    "# error function at integer n_LF and n_HF\n",
    "n_LF = 78\n",
    "n_HF = 9\n",
    "phi = eta * (rho * n_LF**(-beta_L) + n_HF**(-beta_H))\n",
    "print(\"phi at n_LF = %d, n_HF = %d:\" % (n_LF, n_HF), \"%.2f\" % (phi * 100) + \"%\")\n",
    "\n",
    "# computational cost at integer n_LF and n_HF\n",
    "cpus = 56 # frontera\n",
    "C = C_L * n_LF + C_H * n_HF\n",
    "print(\"C at n_LF = %d, n_HF = %d:\" % (n_LF, n_HF), C, \"CPU hours\", \"= %.2f\" % (C/cpus), \"node hours\")"
   ]
  },
  {
   "cell_type": "code",
   "execution_count": null,
   "metadata": {},
   "outputs": [],
   "source": []
  }
 ],
 "metadata": {
  "kernelspec": {
   "display_name": "Python 3",
   "language": "python",
   "name": "python3"
  },
  "language_info": {
   "codemirror_mode": {
    "name": "ipython",
    "version": 3
   },
   "file_extension": ".py",
   "mimetype": "text/x-python",
   "name": "python",
   "nbconvert_exporter": "python",
   "pygments_lexer": "ipython3",
   "version": "3.12.2"
  },
  "orig_nbformat": 4
 },
 "nbformat": 4,
 "nbformat_minor": 2
}
