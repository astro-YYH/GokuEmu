{
 "cells": [
  {
   "cell_type": "code",
   "execution_count": 39,
   "metadata": {},
   "outputs": [],
   "source": [
    "from scipy.optimize import minimize\n",
    "import numpy as np"
   ]
  },
  {
   "cell_type": "code",
   "execution_count": 52,
   "metadata": {},
   "outputs": [],
   "source": [
    "# error function parameters  modes\n",
    "eta = 9.14709251\n",
    "'''rho = pm.Uniform(\"rho\", lower=0, upper=10)\n",
    "beta_L = pm.Uniform(\"beta_L\", lower=0, upper=3)\n",
    "beta_H = pm.Uniform(\"beta_H\", lower=0, upper=6)'''\n",
    "rho = 0.23346471\n",
    "beta_L = 1.18626015\n",
    "beta_H = 0.66452116\n",
    "# rho_2 = pm.Uniform(\"rho_2\", lower=0, upper=1)\n",
    "beta_H2 = 1.9791696\n",
    "# alpha_1 = pm.Normal(\"alpha_1\", mu=10, sigma=5)\n",
    "alpha_L = 9.88180657\n",
    "alpha_1 = 9.04729438\n",
    "alpha_2 = 20.49538774\n",
    "\n",
    "sigma_lg_Phi = 0.09441348   # standard deviation of the log of the error function\n",
    "\n",
    "# computational cost\n",
    "C_L = .994 + 1.845  # C_L1 + C_L2 in CPU hours\n",
    "C_H = 178.813\n",
    "\n",
    "q = C_H / C_L\n",
    "\n",
    "# objective error\n",
    "err_0 = .01 # goal error\n"
   ]
  },
  {
   "cell_type": "code",
   "execution_count": 67,
   "metadata": {},
   "outputs": [
    {
     "data": {
      "text/plain": [
       "45626.78571428572"
      ]
     },
     "execution_count": 67,
     "metadata": {},
     "output_type": "execute_result"
    }
   ],
   "source": [
    "750*(.994 + 1.845)*1200/56"
   ]
  },
  {
   "cell_type": "code",
   "execution_count": 53,
   "metadata": {},
   "outputs": [],
   "source": [
    "def err_func(n_LF, n_HF):\n",
    "    Phi = eta * (rho / ( (n_LF + n_HF) * (n_LF + alpha_L)**(beta_L-1) * (n_HF + alpha_1)**(beta_H-1) ) + 1 / (alpha_2 + n_HF)**(beta_H2))\n",
    "    # median_Phi = 10**lg_Phi\n",
    "    return Phi\n",
    "\n",
    "def err_mean(n_LF, n_HF):\n",
    "    gamma = np.exp(1/2 * (sigma_lg_Phi * np.log(10))**2)\n",
    "    return gamma * err_func(n_LF, n_HF)\n",
    "\n",
    "def comp_bud(n_L, n_H):\n",
    "    return C_L * n_L + C_H * n_H"
   ]
  },
  {
   "cell_type": "code",
   "execution_count": 54,
   "metadata": {},
   "outputs": [
    {
     "name": "stdout",
     "output_type": "stream",
     "text": [
      "Optimal values: x = 644.7931515609873, y = 17.38780996305297\n",
      "Function value at optimal points: f(x, y) = 4939.734220205033\n"
     ]
    }
   ],
   "source": [
    "\n",
    "\n",
    "# # Define the objective function\n",
    "def objective(vars):\n",
    "    n_L, n_H = vars\n",
    "    return comp_bud(n_L, n_H)\n",
    "\n",
    "# Define the constraint function\n",
    "def constraint(vars):\n",
    "    n_L, n_H = vars\n",
    "    return err_mean(n_L,n_H) - err_0\n",
    "\n",
    "# Initial guess for the variables\n",
    "initial_guess = [500, 20]\n",
    "\n",
    "# Define the constraint dictionary\n",
    "con = {'type': 'eq', 'fun': constraint}\n",
    "\n",
    "# Perform the optimization\n",
    "result = minimize(objective, initial_guess, constraints=[con])\n",
    "\n",
    "# Extract the optimal values of x and y\n",
    "x_opt, y_opt = result.x\n",
    "\n",
    "print(f\"Optimal values: x = {x_opt}, y = {y_opt}\")\n",
    "print(f\"Function value at optimal points: f(x, y) = {objective((x_opt, y_opt))}\")"
   ]
  },
  {
   "cell_type": "code",
   "execution_count": 55,
   "metadata": {},
   "outputs": [
    {
     "data": {
      "text/plain": [
       "88.20953964651845"
      ]
     },
     "execution_count": 55,
     "metadata": {},
     "output_type": "execute_result"
    }
   ],
   "source": [
    "comp_bud(x_opt, y_opt) / 56"
   ]
  },
  {
   "cell_type": "code",
   "execution_count": 56,
   "metadata": {},
   "outputs": [
    {
     "data": {
      "text/plain": [
       "105851.44757582214"
      ]
     },
     "execution_count": 56,
     "metadata": {},
     "output_type": "execute_result"
    }
   ],
   "source": [
    "comp_bud(x_opt, y_opt) / 56 * 1200 "
   ]
  },
  {
   "cell_type": "code",
   "execution_count": 64,
   "metadata": {},
   "outputs": [
    {
     "data": {
      "text/plain": [
       "83943.85714285714"
      ]
     },
     "execution_count": 64,
     "metadata": {},
     "output_type": "execute_result"
    }
   ],
   "source": [
    "comp_bud(750, 10) / 56 * 1200 "
   ]
  },
  {
   "cell_type": "code",
   "execution_count": 57,
   "metadata": {},
   "outputs": [],
   "source": [
    "n_LF = 564\n",
    "n_HF = 21"
   ]
  },
  {
   "cell_type": "code",
   "execution_count": 58,
   "metadata": {},
   "outputs": [
    {
     "data": {
      "text/plain": [
       "0.009463563227507668"
      ]
     },
     "execution_count": 58,
     "metadata": {},
     "output_type": "execute_result"
    }
   ],
   "source": [
    "err_mean(n_LF,n_HF)"
   ]
  },
  {
   "cell_type": "code",
   "execution_count": 59,
   "metadata": {},
   "outputs": [
    {
     "data": {
      "text/plain": [
       "114777.19285714286"
      ]
     },
     "execution_count": 59,
     "metadata": {},
     "output_type": "execute_result"
    }
   ],
   "source": [
    "comp_bud(n_LF, n_HF) / 56 * 1200"
   ]
  },
  {
   "cell_type": "code",
   "execution_count": 60,
   "metadata": {},
   "outputs": [
    {
     "data": {
      "text/plain": [
       "0.09312817422204356"
      ]
     },
     "execution_count": 60,
     "metadata": {},
     "output_type": "execute_result"
    }
   ],
   "source": [
    "err_mean(0, 66.3)"
   ]
  },
  {
   "cell_type": "code",
   "execution_count": 61,
   "metadata": {},
   "outputs": [
    {
     "data": {
      "text/plain": [
       "254042.18357142853"
      ]
     },
     "execution_count": 61,
     "metadata": {},
     "output_type": "execute_result"
    }
   ],
   "source": [
    "comp_bud(0, 66.3) / 56 * 1200"
   ]
  },
  {
   "cell_type": "code",
   "execution_count": 62,
   "metadata": {},
   "outputs": [
    {
     "data": {
      "text/plain": [
       "0.023269996046344138"
      ]
     },
     "execution_count": 62,
     "metadata": {},
     "output_type": "execute_result"
    }
   ],
   "source": [
    "err_func(10000, 0)"
   ]
  },
  {
   "cell_type": "code",
   "execution_count": 63,
   "metadata": {},
   "outputs": [
    {
     "name": "stdout",
     "output_type": "stream",
     "text": [
      "phi at n_LF = 78, n_HF = 9: 213.62%\n",
      "C at n_LF = 78, n_HF = 9: 1830.759 CPU hours = 32.69 node hours\n"
     ]
    }
   ],
   "source": [
    "# error function at integer n_LF and n_HF\n",
    "n_LF = 78\n",
    "n_HF = 9\n",
    "phi = eta * (rho * n_LF**(-beta_L) + n_HF**(-beta_H))\n",
    "print(\"phi at n_LF = %d, n_HF = %d:\" % (n_LF, n_HF), \"%.2f\" % (phi * 100) + \"%\")\n",
    "\n",
    "# computational cost at integer n_LF and n_HF\n",
    "cpus = 56 # frontera\n",
    "C = C_L * n_LF + C_H * n_HF\n",
    "print(\"C at n_LF = %d, n_HF = %d:\" % (n_LF, n_HF), C, \"CPU hours\", \"= %.2f\" % (C/cpus), \"node hours\")"
   ]
  },
  {
   "cell_type": "code",
   "execution_count": null,
   "metadata": {},
   "outputs": [],
   "source": []
  }
 ],
 "metadata": {
  "kernelspec": {
   "display_name": "base",
   "language": "python",
   "name": "python3"
  },
  "language_info": {
   "codemirror_mode": {
    "name": "ipython",
    "version": 3
   },
   "file_extension": ".py",
   "mimetype": "text/x-python",
   "name": "python",
   "nbconvert_exporter": "python",
   "pygments_lexer": "ipython3",
   "version": "3.12.2"
  },
  "orig_nbformat": 4
 },
 "nbformat": 4,
 "nbformat_minor": 2
}
