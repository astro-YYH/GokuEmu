{
 "cells": [
  {
   "cell_type": "code",
   "execution_count": 30,
   "metadata": {},
   "outputs": [],
   "source": [
    "from scipy.optimize import minimize\n",
    "import numpy as np"
   ]
  },
  {
   "cell_type": "code",
   "execution_count": 143,
   "metadata": {},
   "outputs": [],
   "source": [
    "# error function parameters  modes\n",
    "eta =0.01638284\n",
    "'''rho = pm.Uniform(\"rho\", lower=0, upper=10)\n",
    "beta_L = pm.Uniform(\"beta_L\", lower=0, upper=3)\n",
    "beta_H = pm.Uniform(\"beta_H\", lower=0, upper=6)'''\n",
    "rho = 840.51783809\n",
    "beta_L = 1.46443914 \n",
    "beta_H = 1.13385676\t\n",
    "# rho_2 = pm.Uniform(\"rho_2\", lower=0, upper=1)\n",
    "beta_H2 = 0.19995312 \n",
    "# alpha_1 = pm.Normal(\"alpha_1\", mu=10, sigma=5)\n",
    "alpha_L = 20.64151615 \n",
    "alpha_1 = 11.60948562\n",
    "alpha_2 = -2.64125169\n",
    "\n",
    "sigma_lg_Phi =0.07716418   # standard deviation of the log of the error function\n",
    "\n",
    "# computational cost\n",
    "C_L = (0.02092 + 0.04517)*56 # CPU hours # 1.97  # C_L1 + C_L2 in CPU hours\n",
    "C_H = 4.348*56  # 230.59\n",
    "\n",
    "q = C_H / C_L\n",
    "\n",
    "# objective error\n",
    "err_0 = .0105 # goal error\n"
   ]
  },
  {
   "cell_type": "code",
   "execution_count": 144,
   "metadata": {},
   "outputs": [
    {
     "data": {
      "text/plain": [
       "65.78907550310181"
      ]
     },
     "execution_count": 144,
     "metadata": {},
     "output_type": "execute_result"
    }
   ],
   "source": [
    "q"
   ]
  },
  {
   "cell_type": "code",
   "execution_count": 146,
   "metadata": {},
   "outputs": [],
   "source": [
    "def err_func(n_LF, n_HF):\n",
    "    Phi = eta * (rho / ( (n_LF + n_HF) * (n_LF + alpha_L)**(beta_L-1) * (n_HF + alpha_1)**(beta_H-1) ) + 1 / (alpha_2 + n_HF)**(beta_H2))\n",
    "    # median_Phi = 10**lg_Phi\n",
    "    return Phi\n",
    "\n",
    "def err_mean(n_LF, n_HF):\n",
    "    gamma = np.exp(1/2 * (sigma_lg_Phi * np.log(10))**2)\n",
    "    return gamma * err_func(n_LF, n_HF)\n",
    "\n",
    "def comp_bud(n_L, n_H):\n",
    "    return C_L * n_L + C_H * n_H"
   ]
  },
  {
   "cell_type": "code",
   "execution_count": 147,
   "metadata": {},
   "outputs": [
    {
     "name": "stdout",
     "output_type": "stream",
     "text": [
      "Optimal values: x = 557.8040078321183, y = 17.575405403256035\n",
      "Function value at optimal points: f(x, y) = 6343.85525597499\n"
     ]
    }
   ],
   "source": [
    "\n",
    "\n",
    "# # Define the objective function\n",
    "def objective(vars):\n",
    "    n_L, n_H = vars\n",
    "    return comp_bud(n_L, n_H)\n",
    "\n",
    "# Define the constraint function\n",
    "def constraint(vars):\n",
    "    n_L, n_H = vars\n",
    "    return err_mean(n_L,n_H) - err_0\n",
    "\n",
    "# Initial guess for the variables\n",
    "initial_guess = [400, 10]\n",
    "\n",
    "# Define the constraint dictionary\n",
    "con = {'type': 'eq', 'fun': constraint}\n",
    "\n",
    "# Perform the optimization\n",
    "result = minimize(objective, initial_guess, constraints=[con])\n",
    "\n",
    "# Extract the optimal values of x and y\n",
    "x_opt, y_opt = result.x\n",
    "\n",
    "print(f\"Optimal values: x = {x_opt}, y = {y_opt}\")\n",
    "print(f\"Function value at optimal points: f(x, y) = {objective((x_opt, y_opt))}\")"
   ]
  },
  {
   "cell_type": "code",
   "execution_count": 148,
   "metadata": {},
   "outputs": [
    {
     "data": {
      "text/plain": [
       "135939.75548517835"
      ]
     },
     "execution_count": 148,
     "metadata": {},
     "output_type": "execute_result"
    }
   ],
   "source": [
    "comp_bud(x_opt, y_opt) / 56 * 1200 "
   ]
  },
  {
   "cell_type": "code",
   "execution_count": 149,
   "metadata": {},
   "outputs": [
    {
     "data": {
      "text/plain": [
       "143864.112"
      ]
     },
     "execution_count": 149,
     "metadata": {},
     "output_type": "execute_result"
    }
   ],
   "source": [
    "comp_bud(564, 19) / 56 * 1200 "
   ]
  },
  {
   "cell_type": "code",
   "execution_count": 150,
   "metadata": {},
   "outputs": [
    {
     "data": {
      "text/plain": [
       "122993.71200000001"
      ]
     },
     "execution_count": 150,
     "metadata": {},
     "output_type": "execute_result"
    }
   ],
   "source": [
    "comp_bud(564, 15) / 56 * 1200 "
   ]
  },
  {
   "cell_type": "code",
   "execution_count": 151,
   "metadata": {},
   "outputs": [
    {
     "data": {
      "text/plain": [
       "44729.71200000001"
      ]
     },
     "execution_count": 151,
     "metadata": {},
     "output_type": "execute_result"
    }
   ],
   "source": [
    "comp_bud(564, 0) / 56 * 1200 "
   ]
  },
  {
   "cell_type": "code",
   "execution_count": 152,
   "metadata": {},
   "outputs": [
    {
     "data": {
      "text/plain": [
       "76035.312"
      ]
     },
     "execution_count": 152,
     "metadata": {},
     "output_type": "execute_result"
    }
   ],
   "source": [
    "comp_bud(564, 6) / 56 * 1200 "
   ]
  },
  {
   "cell_type": "code",
   "execution_count": 153,
   "metadata": {},
   "outputs": [
    {
     "data": {
      "text/plain": [
       "5217.599999999999"
      ]
     },
     "execution_count": 153,
     "metadata": {},
     "output_type": "execute_result"
    }
   ],
   "source": [
    "comp_bud(0, 1) / 56 * 1200 "
   ]
  },
  {
   "cell_type": "code",
   "execution_count": 154,
   "metadata": {},
   "outputs": [
    {
     "data": {
      "text/plain": [
       "0.010431166949162794"
      ]
     },
     "execution_count": 154,
     "metadata": {},
     "output_type": "execute_result"
    }
   ],
   "source": [
    "err_mean(564,18)"
   ]
  },
  {
   "cell_type": "code",
   "execution_count": 155,
   "metadata": {},
   "outputs": [
    {
     "data": {
      "text/plain": [
       "0.010874824811156973"
      ]
     },
     "execution_count": 155,
     "metadata": {},
     "output_type": "execute_result"
    }
   ],
   "source": [
    "err_mean(564,15)"
   ]
  },
  {
   "cell_type": "code",
   "execution_count": 180,
   "metadata": {},
   "outputs": [],
   "source": [
    "n_LF = 564\n",
    "n_HF = 15"
   ]
  },
  {
   "cell_type": "code",
   "execution_count": 181,
   "metadata": {},
   "outputs": [
    {
     "data": {
      "text/plain": [
       "0.010874824811156973"
      ]
     },
     "execution_count": 181,
     "metadata": {},
     "output_type": "execute_result"
    }
   ],
   "source": [
    "err_mean(n_LF,n_HF)"
   ]
  },
  {
   "cell_type": "code",
   "execution_count": 158,
   "metadata": {},
   "outputs": [
    {
     "data": {
      "text/plain": [
       "0.013929904407246495"
      ]
     },
     "execution_count": 158,
     "metadata": {},
     "output_type": "execute_result"
    }
   ],
   "source": [
    "err_mean(564,6)"
   ]
  },
  {
   "cell_type": "code",
   "execution_count": 159,
   "metadata": {},
   "outputs": [
    {
     "data": {
      "text/plain": [
       "122993.71200000001"
      ]
     },
     "execution_count": 159,
     "metadata": {},
     "output_type": "execute_result"
    }
   ],
   "source": [
    "comp_bud(n_LF, n_HF) / 56 * 1200"
   ]
  },
  {
   "cell_type": "code",
   "execution_count": 184,
   "metadata": {},
   "outputs": [
    {
     "data": {
      "text/plain": [
       "0.010872920142444191"
      ]
     },
     "execution_count": 184,
     "metadata": {},
     "output_type": "execute_result"
    }
   ],
   "source": [
    "err_mean(0, 290)"
   ]
  },
  {
   "cell_type": "code",
   "execution_count": 186,
   "metadata": {},
   "outputs": [],
   "source": [
    "C_singlef = comp_bud(0, 290) / 56 * 1200"
   ]
  },
  {
   "cell_type": "code",
   "execution_count": 199,
   "metadata": {},
   "outputs": [
    {
     "name": "stdout",
     "output_type": "stream",
     "text": [
      "Single-fidelity is  12.302287453524452  times more expensive than MF-box\n",
      "In another word, MF-Box reduces the computational cost by 91.871430%\n"
     ]
    }
   ],
   "source": [
    "C_mfbox = comp_bud(564, 15) / 56 * 1200\n",
    "print('Single-fidelity is ', C_singlef / C_mfbox, ' times more expensive than MF-box')\n",
    "print(\"In another word, MF-Box reduces the computational cost by %f\" % (100*(1 - C_mfbox/C_singlef)) + \"%\")\n"
   ]
  },
  {
   "cell_type": "code",
   "execution_count": 162,
   "metadata": {},
   "outputs": [
    {
     "data": {
      "text/plain": [
       "(0.010929435769951755-0.007928255586621727j)"
      ]
     },
     "execution_count": 162,
     "metadata": {},
     "output_type": "execute_result"
    }
   ],
   "source": [
    "err_func(10000, 0)"
   ]
  },
  {
   "cell_type": "code",
   "execution_count": 163,
   "metadata": {},
   "outputs": [
    {
     "name": "stdout",
     "output_type": "stream",
     "text": [
      "phi at n_LF = 78, n_HF = 9: 2.47%\n",
      "C at n_LF = 78, n_HF = 9: 2480.07312 CPU hours = 44.29 node hours\n"
     ]
    }
   ],
   "source": [
    "# error function at integer n_LF and n_HF\n",
    "n_LF = 78\n",
    "n_HF = 9\n",
    "phi = eta * (rho * n_LF**(-beta_L) + n_HF**(-beta_H))\n",
    "print(\"phi at n_LF = %d, n_HF = %d:\" % (n_LF, n_HF), \"%.2f\" % (phi * 100) + \"%\")\n",
    "\n",
    "# computational cost at integer n_LF and n_HF\n",
    "cpus = 56 # frontera\n",
    "C = C_L * n_LF + C_H * n_HF\n",
    "print(\"C at n_LF = %d, n_HF = %d:\" % (n_LF, n_HF), C, \"CPU hours\", \"= %.2f\" % (C/cpus), \"node hours\")"
   ]
  },
  {
   "cell_type": "code",
   "execution_count": 164,
   "metadata": {},
   "outputs": [
    {
     "data": {
      "text/plain": [
       "426.7529296875"
      ]
     },
     "execution_count": 164,
     "metadata": {},
     "output_type": "execute_result"
    }
   ],
   "source": [
    "(159*(564*2 + 15*64) * 9/8 + 2 * 8.4 * (564 + 564 * 4 + 15 *4**3)) / 1024"
   ]
  },
  {
   "cell_type": "code",
   "execution_count": 165,
   "metadata": {},
   "outputs": [],
   "source": [
    "def storage(n_LF, n_HF): # in TB\n",
    "    return (159*(n_LF*2 + n_HF*64) * 9/8 + 2 * 8.4 * (n_LF + n_LF * 4 + n_HF *4**3))/1024"
   ]
  },
  {
   "cell_type": "code",
   "execution_count": 166,
   "metadata": {},
   "outputs": [
    {
     "data": {
      "text/plain": [
       "353.3748046875"
      ]
     },
     "execution_count": 166,
     "metadata": {},
     "output_type": "execute_result"
    }
   ],
   "source": [
    "storage(564, 9)  # naive error function = 1.04%, C = 91688"
   ]
  },
  {
   "cell_type": "code",
   "execution_count": 167,
   "metadata": {},
   "outputs": [
    {
     "data": {
      "text/plain": [
       "46993"
      ]
     },
     "execution_count": 167,
     "metadata": {},
     "output_type": "execute_result"
    }
   ],
   "source": [
    "122993 - 76000"
   ]
  },
  {
   "cell_type": "code",
   "execution_count": 168,
   "metadata": {},
   "outputs": [
    {
     "data": {
      "text/plain": [
       "316.6857421875"
      ]
     },
     "execution_count": 168,
     "metadata": {},
     "output_type": "execute_result"
    }
   ],
   "source": [
    "storage(564, 6) "
   ]
  },
  {
   "cell_type": "code",
   "execution_count": 169,
   "metadata": {},
   "outputs": [
    {
     "data": {
      "text/plain": [
       "426.7529296875"
      ]
     },
     "execution_count": 169,
     "metadata": {},
     "output_type": "execute_result"
    }
   ],
   "source": [
    "storage(564, 15) # new error function = 1.08%, C = 122993"
   ]
  },
  {
   "cell_type": "code",
   "execution_count": 170,
   "metadata": {},
   "outputs": [
    {
     "data": {
      "text/plain": [
       "463.4419921875"
      ]
     },
     "execution_count": 170,
     "metadata": {},
     "output_type": "execute_result"
    }
   ],
   "source": [
    "storage(564, 18) # new error function = 1.02%, C = 154299"
   ]
  }
 ],
 "metadata": {
  "kernelspec": {
   "display_name": "Python 3",
   "language": "python",
   "name": "python3"
  },
  "language_info": {
   "codemirror_mode": {
    "name": "ipython",
    "version": 3
   },
   "file_extension": ".py",
   "mimetype": "text/x-python",
   "name": "python",
   "nbconvert_exporter": "python",
   "pygments_lexer": "ipython3",
   "version": "3.12.2"
  },
  "orig_nbformat": 4
 },
 "nbformat": 4,
 "nbformat_minor": 2
}
