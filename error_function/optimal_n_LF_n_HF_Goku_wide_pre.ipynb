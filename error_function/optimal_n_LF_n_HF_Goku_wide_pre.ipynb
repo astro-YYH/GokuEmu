{
 "cells": [
  {
   "cell_type": "code",
   "execution_count": 187,
   "metadata": {},
   "outputs": [],
   "source": [
    "from scipy.optimize import minimize\n",
    "import numpy as np"
   ]
  },
  {
   "cell_type": "code",
   "execution_count": 188,
   "metadata": {},
   "outputs": [],
   "source": [
    "# error function parameters  modes\n",
    "eta =0.06279174\n",
    "'''rho = pm.Uniform(\"rho\", lower=0, upper=10)\n",
    "beta_L = pm.Uniform(\"beta_L\", lower=0, upper=3)\n",
    "beta_H = pm.Uniform(\"beta_H\", lower=0, upper=6)'''\n",
    "rho = 90.84086656\n",
    "beta_L = 1.01224394\n",
    "beta_H = 0.73874365\n",
    "# rho_2 = pm.Uniform(\"rho_2\", lower=0, upper=1)\n",
    "beta_H2 = 0.37773169\n",
    "# alpha_1 = pm.Normal(\"alpha_1\", mu=10, sigma=5)\n",
    "alpha_L = 3.36892667\n",
    "alpha_1 = 3.33742461\n",
    "alpha_2 = -1.55839418\n",
    "\n",
    "sigma_lg_Phi = 0.08570291 \n",
    "\n",
    "# computational cost\n",
    "C_L = .998 + 1.869  # C_L1 + C_L2 in CPU hours\n",
    "C_H = 178.813\n",
    "\n",
    "q = C_H / C_L\n",
    "\n",
    "# objective error\n",
    "err_0 = .05 # goal error\n"
   ]
  },
  {
   "cell_type": "code",
   "execution_count": 189,
   "metadata": {},
   "outputs": [],
   "source": [
    "def err_func(n_LF, n_HF):\n",
    "    Phi = eta * (rho / ( (n_LF + n_HF) * (n_LF + alpha_L)**(beta_L-1) * (n_HF + alpha_1)**(beta_H-1) ) + 1 / (alpha_2 + n_HF)**(beta_H2))\n",
    "    # median_Phi = 10**lg_Phi\n",
    "    return Phi\n",
    "\n",
    "def err_mean(n_LF, n_HF):\n",
    "    gamma = np.exp(1/2 * (sigma_lg_Phi * np.log(10))**2)\n",
    "    return gamma * err_func(n_LF, n_HF)\n",
    "\n",
    "def comp_bud(n_L, n_H):\n",
    "    return C_L * n_L + C_H * n_H"
   ]
  },
  {
   "cell_type": "code",
   "execution_count": 190,
   "metadata": {},
   "outputs": [
    {
     "name": "stdout",
     "output_type": "stream",
     "text": [
      "Optimal values: x = 583.9282026211353, y = 7.278585048292925\n",
      "Function value at optimal points: f(x, y) = 2975.6277851551977\n"
     ]
    }
   ],
   "source": [
    "\n",
    "\n",
    "# # Define the objective function\n",
    "def objective(vars):\n",
    "    n_L, n_H = vars\n",
    "    return comp_bud(n_L, n_H)\n",
    "\n",
    "# Define the constraint function\n",
    "def constraint(vars):\n",
    "    n_L, n_H = vars\n",
    "    return err_mean(n_L,n_H) - err_0\n",
    "\n",
    "# Initial guess for the variables\n",
    "initial_guess = [600, 10]\n",
    "\n",
    "# Define the constraint dictionary\n",
    "con = {'type': 'eq', 'fun': constraint}\n",
    "\n",
    "# Perform the optimization\n",
    "result = minimize(objective, initial_guess, constraints=[con])\n",
    "\n",
    "# Extract the optimal values of x and y\n",
    "x_opt, y_opt = result.x\n",
    "\n",
    "print(f\"Optimal values: x = {x_opt}, y = {y_opt}\")\n",
    "print(f\"Function value at optimal points: f(x, y) = {objective((x_opt, y_opt))}\")"
   ]
  },
  {
   "cell_type": "code",
   "execution_count": 191,
   "metadata": {},
   "outputs": [
    {
     "data": {
      "text/plain": [
       "53.13621044919996"
      ]
     },
     "execution_count": 191,
     "metadata": {},
     "output_type": "execute_result"
    }
   ],
   "source": [
    "comp_bud(x_opt, y_opt) / 56"
   ]
  },
  {
   "cell_type": "code",
   "execution_count": 192,
   "metadata": {},
   "outputs": [
    {
     "data": {
      "text/plain": [
       "63763.45253903995"
      ]
     },
     "execution_count": 192,
     "metadata": {},
     "output_type": "execute_result"
    }
   ],
   "source": [
    "comp_bud(x_opt, y_opt) / 56 * 1200"
   ]
  },
  {
   "cell_type": "code",
   "execution_count": 193,
   "metadata": {},
   "outputs": [],
   "source": [
    "n_LF = 564\n",
    "n_HF = 21"
   ]
  },
  {
   "cell_type": "code",
   "execution_count": 194,
   "metadata": {},
   "outputs": [
    {
     "data": {
      "text/plain": [
       "0.04205262414022338"
      ]
     },
     "execution_count": 194,
     "metadata": {},
     "output_type": "execute_result"
    }
   ],
   "source": [
    "err_mean(n_LF,n_HF)"
   ]
  },
  {
   "cell_type": "code",
   "execution_count": 195,
   "metadata": {},
   "outputs": [
    {
     "data": {
      "text/plain": [
       "115115.59285714284"
      ]
     },
     "execution_count": 195,
     "metadata": {},
     "output_type": "execute_result"
    }
   ],
   "source": [
    "comp_bud(n_LF, n_HF) / 56 * 1200"
   ]
  },
  {
   "cell_type": "code",
   "execution_count": 204,
   "metadata": {},
   "outputs": [
    {
     "data": {
      "text/plain": [
       "0.059110607942079424"
      ]
     },
     "execution_count": 204,
     "metadata": {},
     "output_type": "execute_result"
    }
   ],
   "source": [
    "err_mean(0, 564)"
   ]
  },
  {
   "cell_type": "code",
   "execution_count": 205,
   "metadata": {},
   "outputs": [
    {
     "data": {
      "text/plain": [
       "2161082.8285714285"
      ]
     },
     "execution_count": 205,
     "metadata": {},
     "output_type": "execute_result"
    }
   ],
   "source": [
    "comp_bud(0, 564) / 56 * 1200"
   ]
  },
  {
   "cell_type": "code",
   "execution_count": 198,
   "metadata": {},
   "outputs": [
    {
     "data": {
      "text/plain": [
       "(0.020598159424718255-0.049233718543544386j)"
      ]
     },
     "execution_count": 198,
     "metadata": {},
     "output_type": "execute_result"
    }
   ],
   "source": [
    "err_func(10000, 0)"
   ]
  },
  {
   "cell_type": "code",
   "execution_count": 199,
   "metadata": {},
   "outputs": [
    {
     "name": "stdout",
     "output_type": "stream",
     "text": [
      "phi at n_LF = 78, n_HF = 9: 8.17%\n",
      "C at n_LF = 78, n_HF = 9: 1832.943 CPU hours = 32.73 node hours\n"
     ]
    }
   ],
   "source": [
    "# error function at integer n_LF and n_HF\n",
    "n_LF = 78\n",
    "n_HF = 9\n",
    "phi = eta * (rho * n_LF**(-beta_L) + n_HF**(-beta_H))\n",
    "print(\"phi at n_LF = %d, n_HF = %d:\" % (n_LF, n_HF), \"%.2f\" % (phi * 100) + \"%\")\n",
    "\n",
    "# computational cost at integer n_LF and n_HF\n",
    "cpus = 56 # frontera\n",
    "C = C_L * n_LF + C_H * n_HF\n",
    "print(\"C at n_LF = %d, n_HF = %d:\" % (n_LF, n_HF), C, \"CPU hours\", \"= %.2f\" % (C/cpus), \"node hours\")"
   ]
  },
  {
   "cell_type": "code",
   "execution_count": null,
   "metadata": {},
   "outputs": [],
   "source": []
  }
 ],
 "metadata": {
  "kernelspec": {
   "display_name": "Python 3",
   "language": "python",
   "name": "python3"
  },
  "language_info": {
   "codemirror_mode": {
    "name": "ipython",
    "version": 3
   },
   "file_extension": ".py",
   "mimetype": "text/x-python",
   "name": "python",
   "nbconvert_exporter": "python",
   "pygments_lexer": "ipython3",
   "version": "3.12.2"
  },
  "orig_nbformat": 4
 },
 "nbformat": 4,
 "nbformat_minor": 2
}
