{
 "cells": [
  {
   "cell_type": "code",
   "execution_count": 39,
   "metadata": {},
   "outputs": [],
   "source": [
    "from scipy.optimize import root"
   ]
  },
  {
   "cell_type": "code",
   "execution_count": 40,
   "metadata": {},
   "outputs": [],
   "source": [
    "# error function parameters\n",
    "eta = 28 * .8 / 25\n",
    "rho = .96 * 25\n",
    "beta_L = .86 * 1.\n",
    "beta_H = 1.1\n",
    "alpha = 37\n",
    "beta_H2 = 2.06\n",
    "\n",
    "# computational cost\n",
    "C_L = .994 + 1.845  # C_L1 + C_L2 in CPU hours\n",
    "C_H = 178.813\n",
    "\n",
    "q = C_H / C_L\n",
    "\n",
    "# objective error\n",
    "phi_0 = .005\n"
   ]
  },
  {
   "cell_type": "code",
   "execution_count": 41,
   "metadata": {},
   "outputs": [
    {
     "name": "stdout",
     "output_type": "stream",
     "text": [
      "Root: [20.67458292]\n"
     ]
    }
   ],
   "source": [
    "# solving for optimal n_LF and n_HF\n",
    "\n",
    "# n_L = HtoL (n_H)\n",
    "def n_L_func(n_H):\n",
    "    return (rho / n_H**beta_H)**(1/beta_L) * (phi_0/eta - 1/( alpha + n_H**beta_H2 ))**(-1/beta_L)\n",
    "\n",
    "# solve for n_H\n",
    "def equation_to_solve(x):\n",
    "    return q * rho * beta_L / (x**beta_H * n_L_func(x)**(beta_L + 1)) - rho * beta_H / (n_L_func(x)**beta_L * x**(beta_H + 1)) - beta_H2 * x**(beta_H2 - 1) / (alpha + x**beta_H2)**2\n",
    "\n",
    "result = root(equation_to_solve, x0=20.0)\n",
    "if result.success:\n",
    "    root_value = result.x\n",
    "    print(\"Root:\", root_value)\n",
    "else:\n",
    "    print(\"Root finding did not converge.\")\n",
    "\n",
    "n_HF = root_value\n",
    "\n",
    "# solve for n_HF\n",
    "n_LF = n_L_func(n_HF)"
   ]
  },
  {
   "cell_type": "code",
   "execution_count": 42,
   "metadata": {},
   "outputs": [
    {
     "name": "stdout",
     "output_type": "stream",
     "text": [
      "n_LF: [551.80409673]\n",
      "n_HF: [20.67458292]\n"
     ]
    }
   ],
   "source": [
    "# results\n",
    "print(\"n_LF:\", n_LF)\n",
    "print(\"n_HF:\", n_HF)"
   ]
  },
  {
   "cell_type": "code",
   "execution_count": 43,
   "metadata": {},
   "outputs": [
    {
     "name": "stdout",
     "output_type": "stream",
     "text": [
      "phi at n_LF = 551, n_HF = 20: 12.76%\n",
      "C at n_LF = 551, n_HF = 20: 5140.549 CPU hours = 91.80 node hours\n"
     ]
    }
   ],
   "source": [
    "# error function at integer n_LF and n_HF\n",
    "n_LF = int(n_LF[0])\n",
    "n_HF = int(n_HF[0])\n",
    "phi = eta * (rho * n_LF**(-beta_L) + n_HF**(-beta_H))\n",
    "print(\"phi at n_LF = %d, n_HF = %d:\" % (n_LF, n_HF), \"%.2f\" % (phi * 100) + \"%\")\n",
    "\n",
    "# computational cost at integer n_LF and n_HF\n",
    "cpus = 56 # frontera\n",
    "C = C_L * n_LF + C_H * n_HF\n",
    "print(\"C at n_LF = %d, n_HF = %d:\" % (n_LF, n_HF), C, \"CPU hours\", \"= %.2f\" % (C/cpus), \"node hours\")"
   ]
  },
  {
   "cell_type": "code",
   "execution_count": 44,
   "metadata": {},
   "outputs": [
    {
     "name": "stdout",
     "output_type": "stream",
     "text": [
      "phi at n_LF = 78, n_HF = 9: 58.73%\n",
      "C at n_LF = 78, n_HF = 9: 1830.759 CPU hours = 32.69 node hours\n"
     ]
    }
   ],
   "source": [
    "# error function at integer n_LF and n_HF\n",
    "n_LF = 78\n",
    "n_HF = 9\n",
    "phi = eta * (rho * n_LF**(-beta_L) + n_HF**(-beta_H))\n",
    "print(\"phi at n_LF = %d, n_HF = %d:\" % (n_LF, n_HF), \"%.2f\" % (phi * 100) + \"%\")\n",
    "\n",
    "# computational cost at integer n_LF and n_HF\n",
    "cpus = 56 # frontera\n",
    "C = C_L * n_LF + C_H * n_HF\n",
    "print(\"C at n_LF = %d, n_HF = %d:\" % (n_LF, n_HF), C, \"CPU hours\", \"= %.2f\" % (C/cpus), \"node hours\")"
   ]
  },
  {
   "cell_type": "code",
   "execution_count": null,
   "metadata": {},
   "outputs": [],
   "source": []
  }
 ],
 "metadata": {
  "kernelspec": {
   "display_name": "Python 3",
   "language": "python",
   "name": "python3"
  },
  "language_info": {
   "codemirror_mode": {
    "name": "ipython",
    "version": 3
   },
   "file_extension": ".py",
   "mimetype": "text/x-python",
   "name": "python",
   "nbconvert_exporter": "python",
   "pygments_lexer": "ipython3",
   "version": "3.12.2"
  },
  "orig_nbformat": 4
 },
 "nbformat": 4,
 "nbformat_minor": 2
}
