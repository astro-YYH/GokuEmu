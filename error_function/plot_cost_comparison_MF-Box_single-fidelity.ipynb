{
 "cells": [
  {
   "cell_type": "code",
   "execution_count": 1,
   "metadata": {},
   "outputs": [],
   "source": [
    "import matplotlib.pyplot as plt\n",
    "import numpy as np"
   ]
  },
  {
   "cell_type": "code",
   "execution_count": 47,
   "metadata": {},
   "outputs": [
    {
     "data": {
      "image/png": "[encoded data removed]",
      "text/plain": [
       "<Figure size 400x230 with 1 Axes>"
      ]
     },
     "metadata": {},
     "output_type": "display_data"
    }
   ],
   "source": [
    "cmap = \"viridis\"\n",
    "cmap = plt.get_cmap(cmap)\n",
    "color_list = [x for x in cmap(np.arange(6)/(6-1))]\n",
    "\n",
    "unit = 1e5\n",
    "# MF-Box node hours: W and N\n",
    "C_MFBox_W = 130885.2\n",
    "C_MFBox_N = 130873.2\n",
    "\n",
    "# Single-fidelity node hours: W and N\n",
    "C_Single_W = 2510928.0\n",
    "C_Single_N = 1616460.0\n",
    "\n",
    "# Scale the values by the unit\n",
    "C_MFBox_W /= unit\n",
    "C_MFBox_N /= unit\n",
    "C_Single_W /= unit\n",
    "C_Single_N /= unit\n",
    "\n",
    "# Sample data\n",
    "categories = ['MF-Box', 'Single-fidelity']\n",
    "\n",
    "values_MF_W = [C_MFBox_W, 0]  # A in Group 1\n",
    "values_MF_N = [C_MFBox_N, 0]  # B in Group 1\n",
    "values_SF_W = [0, C_Single_W]  # B in Group 2\n",
    "values_SF_N = [0, C_Single_N]  # A in Group 2\n",
    "\n",
    "# Figure size\n",
    "fig, ax = plt.subplots(figsize=(4, 2.3))\n",
    "\n",
    "plt.rcParams['font.family'] = 'Times New Roman'\n",
    "plt.rcParams['mathtext.fontset'] = 'cm'\n",
    "\n",
    "height_bar = 0.6\n",
    "\n",
    "# Plotting stacked horizontal bar chart\n",
    "ax.barh(categories, values_MF_W, color=color_list[3], label=r'$\\tt{Goku}$'+'-'+r'$\\tt{W}$', height=height_bar)\n",
    "ax.barh(categories, values_MF_N, color=color_list[4], left=values_MF_W, label=r'$\\tt{Goku}$'+'-'+r'$\\tt{N}$', height=height_bar)\n",
    "ax.barh(categories, values_SF_W, color=color_list[3], height=height_bar)\n",
    "ax.barh(categories, values_SF_N, color=color_list[4], left=[0, values_SF_W[1]], height=height_bar)\n",
    "ax.set_ylim(-0.6, 1.6)\n",
    "ax.set_xlim(0, C_Single_N + C_Single_W + 4)\n",
    "# # Annotating component values\n",
    "# for i, (w, n) in enumerate(zip(values_MF_W, values_MF_N)):\n",
    "#     if w > 0:  # Annotate MF-Box W\n",
    "#         ax.text(w / 2, i, f\"{w:.1f}\", ha='center', va='center', color='black')\n",
    "#     if n > 0:  # Annotate MF-Box N\n",
    "#         ax.text(w + n / 2, i, f\"{n:.1f}\", ha='center', va='center', color='black')\n",
    "\n",
    "# for i, (w, n) in enumerate(zip(values_SF_W, values_SF_N)):\n",
    "#     if w > 0:  # Annotate Single-fidelity W\n",
    "#         ax.text(w / 2, i, f\"{w:.1f}\", ha='center', va='center', color='black')\n",
    "#     if n > 0:  # Annotate Single-fidelity N\n",
    "#         ax.text(w + n / 2, i, f\"{n:.1f}\", ha='center', va='center', color='black')\n",
    "\n",
    "# Adding total annotations\n",
    "for i, (mf_total, sf_total) in enumerate(zip(\n",
    "    [C_MFBox_W + C_MFBox_N, 0],  # MF-Box total\n",
    "    [0, C_Single_W + C_Single_N]  # Single-fidelity total\n",
    ")):\n",
    "    if mf_total > 0:  # Annotate MF-Box total\n",
    "        ax.text(mf_total + 0.2, i, f\"{mf_total:.1f}\", ha='left', va='center', color='black')\n",
    "    if sf_total > 0:  # Annotate Single-fidelity total\n",
    "        ax.text(sf_total + 0.2, i, f\"{sf_total:.1f}\", ha='left', va='center', color='black')\n",
    "\n",
    "# Adjusting y-axis labels to be parallel to the axis\n",
    "ax.set_yticks(range(len(categories)))\n",
    "ax.set_yticklabels(categories, rotation=90, va='center', ha='center')\n",
    "\n",
    "ax.grid(True,axis='x')\n",
    "ax.set_axisbelow(True)\n",
    "\n",
    "# Adding labels and title\n",
    "plt.xlabel('Computational cost ('+r'$10^{5}\\,$'+'node hours)')\n",
    "# plt.ylabel('Categories')\n",
    "# plt.title('Stacked Horizontal Bar Chart')\n",
    "plt.legend()\n",
    "# plt.show()\n",
    "plt.savefig('compare_MF-Box_single-fidelity.pdf', bbox_inches='tight')"
   ]
  },
  {
   "cell_type": "code",
   "execution_count": 43,
   "metadata": {},
   "outputs": [
    {
     "name": "stdout",
     "output_type": "stream",
     "text": [
      "MF-Box decreases the computational cost by 93.65801325196468 %\n"
     ]
    }
   ],
   "source": [
    "print(\"MF-Box decreases the computational cost by\", (1- (C_MFBox_W + C_MFBox_N)/(C_Single_W + C_Single_N)) * 100, \"%\")"
   ]
  },
  {
   "cell_type": "code",
   "execution_count": null,
   "metadata": {},
   "outputs": [],
   "source": []
  }
 ],
 "metadata": {
  "kernelspec": {
   "display_name": "base",
   "language": "python",
   "name": "python3"
  },
  "language_info": {
   "codemirror_mode": {
    "name": "ipython",
    "version": 3
   },
   "file_extension": ".py",
   "mimetype": "text/x-python",
   "name": "python",
   "nbconvert_exporter": "python",
   "pygments_lexer": "ipython3",
   "version": "3.12.2"
  },
  "orig_nbformat": 4
 },
 "nbformat": 4,
 "nbformat_minor": 2
}
