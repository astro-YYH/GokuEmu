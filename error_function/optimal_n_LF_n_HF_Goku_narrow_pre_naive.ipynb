{
 "cells": [
  {
   "cell_type": "code",
   "execution_count": 34,
   "metadata": {},
   "outputs": [],
   "source": [
    "from scipy.optimize import root"
   ]
  },
  {
   "cell_type": "code",
   "execution_count": 35,
   "metadata": {},
   "outputs": [],
   "source": [
    "# error function parameters\n",
    "# eta = 0.02129954 \n",
    "# '''rho = pm.Uniform(\"rho\", lower=0, upper=10)\n",
    "# beta_L = pm.Uniform(\"beta_L\", lower=0, upper=3)\n",
    "# beta_H = pm.Uniform(\"beta_H\", lower=0, upper=6)'''\n",
    "# rho = 12.30025556\n",
    "# beta_L = 0.59088313\n",
    "# beta_H = 0.40906355\n",
    "\n",
    "eta = 0.04103362 # global mode\n",
    "rho = 8.28387899\n",
    "beta_L = 0.67071818\n",
    "beta_H = 0.91349368\n",
    "\n",
    "  \n",
    "# sigma_lg_Phi = 0.10607891  # standard deviation of the log of the error function\n",
    "\n",
    "# computational cost\n",
    "C_L = (0.02092 + 0.04517)*56 # CPU hours # 1.97  # C_L1 + C_L2 in CPU hours\n",
    "C_H = 4.348*56  # 230.59\n",
    "\n",
    "# objective error\n",
    "phi_0 = .01\n"
   ]
  },
  {
   "cell_type": "code",
   "execution_count": 36,
   "metadata": {},
   "outputs": [
    {
     "name": "stdout",
     "output_type": "stream",
     "text": [
      "Root: [520.95355765]\n"
     ]
    }
   ],
   "source": [
    "# solving for optimal n_LF and n_HF\n",
    "\n",
    "# solve for n_LF\n",
    "def equation_to_solve(x, rho=rho, eta=eta, beta_L=beta_L, beta_H=beta_H, C_L=C_L, C_H=C_H, phi_0=phi_0):\n",
    "    return rho * eta * x**(-beta_L) + eta * ((C_L * beta_H)/(rho * C_H * beta_L))**(-beta_H/(1 + beta_H)) * x**(-beta_H * (1 + beta_L)/(1 + beta_H)) - phi_0\n",
    "\n",
    "result = root(equation_to_solve, x0=100.0)\n",
    "if result.success:\n",
    "    root_value = result.x\n",
    "    print(\"Root:\", root_value)\n",
    "else:\n",
    "    print(\"Root finding did not converge.\")\n",
    "\n",
    "n_LF = root_value\n",
    "\n",
    "# solve for n_HF\n",
    "n_HF = ((C_L * beta_H)/(rho * C_H * beta_L))**(1/(1 + beta_H)) * n_LF**((1 + beta_L)/(1 + beta_H))\n"
   ]
  },
  {
   "cell_type": "code",
   "execution_count": 37,
   "metadata": {},
   "outputs": [
    {
     "name": "stdout",
     "output_type": "stream",
     "text": [
      "n_LF: [520.95355765]\n",
      "n_HF: [10.28421921]\n"
     ]
    }
   ],
   "source": [
    "# results\n",
    "print(\"n_LF:\", n_LF)\n",
    "print(\"n_HF:\", n_HF)"
   ]
  },
  {
   "cell_type": "code",
   "execution_count": 38,
   "metadata": {},
   "outputs": [
    {
     "name": "stdout",
     "output_type": "stream",
     "text": [
      "phi at n_LF = 520, n_HF = 10: 1.01%\n",
      "C at n_LF = 520, n_HF = 10: 4359.420800000001 CPU hours = 77.85 node hours\n"
     ]
    }
   ],
   "source": [
    "# error function at integer n_LF and n_HF\n",
    "n_LF = int(n_LF[0])\n",
    "n_HF = int(n_HF[0])\n",
    "phi = eta * (rho * n_LF**(-beta_L) + n_HF**(-beta_H))\n",
    "print(\"phi at n_LF = %d, n_HF = %d:\" % (n_LF, n_HF), \"%.2f\" % (phi * 100) + \"%\")\n",
    "\n",
    "# computational cost at integer n_LF and n_HF\n",
    "cpus = 56 # frontera\n",
    "C = C_L * n_LF + C_H * n_HF\n",
    "print(\"C at n_LF = %d, n_HF = %d:\" % (n_LF, n_HF), C, \"CPU hours\", \"= %.2f\" % (C/cpus), \"node hours\")"
   ]
  },
  {
   "cell_type": "code",
   "execution_count": 39,
   "metadata": {},
   "outputs": [
    {
     "data": {
      "text/plain": [
       "93416.16000000002"
      ]
     },
     "execution_count": 39,
     "metadata": {},
     "output_type": "execute_result"
    }
   ],
   "source": [
    "C/cpus * 1200"
   ]
  },
  {
   "cell_type": "code",
   "execution_count": 42,
   "metadata": {},
   "outputs": [
    {
     "name": "stdout",
     "output_type": "stream",
     "text": [
      "phi at n_LF = 564, n_HF = 9: 1.04%\n",
      "C at n_LF = 564, n_HF = 9: 91688.11200000001 node hours\n"
     ]
    }
   ],
   "source": [
    "# error function at integer n_LF and n_HF\n",
    "n_LF = 564\n",
    "n_HF = 9\n",
    "phi = eta * (rho * n_LF**(-beta_L) + n_HF**(-beta_H))\n",
    "print(\"phi at n_LF = %d, n_HF = %d:\" % (n_LF, n_HF), \"%.2f\" % (phi * 100) + \"%\")\n",
    "\n",
    "# computational cost at integer n_LF and n_HF\n",
    "cpus = 56 # frontera\n",
    "C = C_L * n_LF + C_H * n_HF\n",
    "# print(\"C at n_LF = %d, n_HF = %d:\" % (n_LF, n_HF), C, \"CPU hours\", \"= %.2f\" % (C/cpus), \"node hours\")\n",
    "print(\"C at n_LF = %d, n_HF = %d:\" % (n_LF, n_HF), C/cpus * 1200, \"node hours\")"
   ]
  },
  {
   "cell_type": "code",
   "execution_count": null,
   "metadata": {},
   "outputs": [],
   "source": []
  }
 ],
 "metadata": {
  "kernelspec": {
   "display_name": "Python 3",
   "language": "python",
   "name": "python3"
  },
  "language_info": {
   "codemirror_mode": {
    "name": "ipython",
    "version": 3
   },
   "file_extension": ".py",
   "mimetype": "text/x-python",
   "name": "python",
   "nbconvert_exporter": "python",
   "pygments_lexer": "ipython3",
   "version": "3.12.2"
  },
  "orig_nbformat": 4
 },
 "nbformat": 4,
 "nbformat_minor": 2
}
