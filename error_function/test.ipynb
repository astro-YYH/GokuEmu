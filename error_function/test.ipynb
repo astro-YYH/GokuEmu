{
 "cells": [
  {
   "cell_type": "code",
   "execution_count": 1,
   "metadata": {},
   "outputs": [
    {
     "name": "stderr",
     "output_type": "stream",
     "text": [
      "/rhome/yyang440/bigdata/anaconda3/envs/nbodykit-env/lib/python3.8/site-packages/scipy/__init__.py:146: UserWarning: A NumPy version >=1.16.5 and <1.23.0 is required for this version of SciPy (detected version 1.24.3\n",
      "  warnings.warn(f\"A NumPy version >={np_minversion} and <{np_maxversion}\"\n"
     ]
    }
   ],
   "source": [
    "from scipy.optimize import root\n",
    "import numpy as np"
   ]
  },
  {
   "cell_type": "code",
   "execution_count": 2,
   "metadata": {},
   "outputs": [
    {
     "data": {
      "text/plain": [
       "1.0986122886681098"
      ]
     },
     "execution_count": 2,
     "metadata": {},
     "output_type": "execute_result"
    }
   ],
   "source": [
    "np.log(3)"
   ]
  },
  {
   "cell_type": "code",
   "execution_count": 11,
   "metadata": {},
   "outputs": [],
   "source": [
    "# error function parameters\n",
    "rho = 5.53945717\n",
    "eta = 0.12420984\n",
    "beta_L = 0.63021449\n",
    "beta_H = 2.17635687\n",
    "\n",
    "# computational cost\n",
    "C_L = 1.97  # C_L1 + C_L2 in CPU hours\n",
    "C_H = 230.59\n",
    "\n",
    "# objective error\n",
    "phi_0 = .01\n"
   ]
  },
  {
   "cell_type": "code",
   "execution_count": 6,
   "metadata": {},
   "outputs": [
    {
     "name": "stdout",
     "output_type": "stream",
     "text": [
      "Root: [3.04013076]\n"
     ]
    }
   ],
   "source": [
    "# solving for optimal n_LF and n_HF\n",
    "\n",
    "# solve for n_LF\n",
    "def equation_to_solve(x):\n",
    "    # return .54*x**1.37 + (.787-.023*np.log(x))*x - 2.765\n",
    "    return .54*x**1.37 + (.684-.0416*np.log(x))*x - 4.416\n",
    "\n",
    "result = root(equation_to_solve, x0=1.0)\n",
    "if result.success:\n",
    "    root_value = result.x\n",
    "    print(\"Root:\", root_value)\n",
    "else:\n",
    "    print(\"Root finding did not converge.\")\n",
    "\n",
    "# n_LF = root_value\n",
    "\n",
    "# # solve for n_HF\n",
    "# n_HF = ((C_L * beta_H)/(rho * C_H * beta_L))**(1/(1 + beta_H)) * n_LF**((1 + beta_L)/(1 + beta_H))\n"
   ]
  },
  {
   "cell_type": "code",
   "execution_count": 13,
   "metadata": {},
   "outputs": [
    {
     "name": "stdout",
     "output_type": "stream",
     "text": [
      "n_LF: [1120.44384067]\n",
      "n_HF: [7.06744302]\n"
     ]
    }
   ],
   "source": [
    "# results\n",
    "print(\"n_LF:\", n_LF)\n",
    "print(\"n_HF:\", n_HF)"
   ]
  },
  {
   "cell_type": "code",
   "execution_count": 14,
   "metadata": {},
   "outputs": [
    {
     "name": "stdout",
     "output_type": "stream",
     "text": [
      "phi at n_LF = 1120, n_HF = 7: 1.00%\n",
      "C at n_LF = 1120, n_HF = 7: 3820.53 CPU hours = 68.22 node hours\n"
     ]
    }
   ],
   "source": [
    "# error function at integer n_LF and n_HF\n",
    "n_LF = int(n_LF[0])\n",
    "n_HF = int(n_HF[0])\n",
    "phi = eta * (rho * n_LF**(-beta_L) + n_HF**(-beta_H))\n",
    "print(\"phi at n_LF = %d, n_HF = %d:\" % (n_LF, n_HF), \"%.2f\" % (phi * 100) + \"%\")\n",
    "\n",
    "# computational cost at integer n_LF and n_HF\n",
    "cpus = 56 # frontera\n",
    "C = C_L * n_LF + C_H * n_HF\n",
    "print(\"C at n_LF = %d, n_HF = %d:\" % (n_LF, n_HF), C, \"CPU hours\", \"= %.2f\" % (C/cpus), \"node hours\")"
   ]
  },
  {
   "cell_type": "code",
   "execution_count": 15,
   "metadata": {},
   "outputs": [
    {
     "name": "stdout",
     "output_type": "stream",
     "text": [
      "phi at n_LF = 1120, n_HF = 8: 0.96%\n",
      "C at n_LF = 1120, n_HF = 8: 4051.12 CPU hours = 72.34 node hours\n"
     ]
    }
   ],
   "source": [
    "# error function at integer n_LF and n_HF\n",
    "n_LF = 1120\n",
    "n_HF = 8\n",
    "phi = eta * (rho * n_LF**(-beta_L) + n_HF**(-beta_H))\n",
    "print(\"phi at n_LF = %d, n_HF = %d:\" % (n_LF, n_HF), \"%.2f\" % (phi * 100) + \"%\")\n",
    "\n",
    "# computational cost at integer n_LF and n_HF\n",
    "cpus = 56 # frontera\n",
    "C = C_L * n_LF + C_H * n_HF\n",
    "print(\"C at n_LF = %d, n_HF = %d:\" % (n_LF, n_HF), C, \"CPU hours\", \"= %.2f\" % (C/cpus), \"node hours\")"
   ]
  },
  {
   "cell_type": "code",
   "execution_count": null,
   "metadata": {},
   "outputs": [],
   "source": []
  }
 ],
 "metadata": {
  "kernelspec": {
   "display_name": "nbodykit-env",
   "language": "python",
   "name": "nbodykit-env"
  },
  "language_info": {
   "codemirror_mode": {
    "name": "ipython",
    "version": 3
   },
   "file_extension": ".py",
   "mimetype": "text/x-python",
   "name": "python",
   "nbconvert_exporter": "python",
   "pygments_lexer": "ipython3",
   "version": "3.8.16"
  }
 },
 "nbformat": 4,
 "nbformat_minor": 4
}
