{
 "cells": [
  {
   "cell_type": "code",
   "execution_count": 1,
   "metadata": {},
   "outputs": [],
   "source": [
    "import matplotlib.pyplot as plt\n",
    "import numpy as np\n",
    "import os\n",
    "import glob\n",
    "from scipy.interpolate import interp1d\n",
    "# from plot_funcs import *\n",
    "from matplotlib import patches"
   ]
  },
  {
   "cell_type": "code",
   "execution_count": 2,
   "metadata": {},
   "outputs": [],
   "source": [
    "def modecount_rebin(kk, pk, modes, minmodes=20, ndesired=200): #from MP-Gadget\n",
    "    \"\"\"Rebins a power spectrum so that there are sufficient modes in each bin\"\"\"\n",
    "    assert np.all(kk) > 0\n",
    "    logkk=np.log10(kk)\n",
    "    mdlogk = (np.max(logkk) - np.min(logkk))/ndesired\n",
    "    istart=iend=1\n",
    "    count=0\n",
    "    k_list=[kk[0]]\n",
    "    pk_list=[pk[0]]\n",
    "    targetlogk=mdlogk+logkk[istart]\n",
    "    while iend < np.size(logkk)-1:\n",
    "        count+=modes[iend]\n",
    "        iend+=1\n",
    "        if count >= minmodes and logkk[iend-1] >= targetlogk:\n",
    "            pk1 = np.sum(modes[istart:iend]*pk[istart:iend])/count\n",
    "            kk1 = np.sum(modes[istart:iend]*kk[istart:iend])/count\n",
    "            k_list.append(kk1)\n",
    "            pk_list.append(pk1)\n",
    "            istart=iend\n",
    "            targetlogk=mdlogk+logkk[istart]\n",
    "            count=0\n",
    "    k_list = np.array(k_list)\n",
    "    pk_list = np.array(pk_list)\n",
    "    return (k_list, pk_list)\n",
    "\n",
    "def load_rebin(spec_file):\n",
    "    k_raw, Pk_raw, modes = np.loadtxt(spec_file, usecols=(0,1,2), unpack=True)\n",
    "    k, Pk = modecount_rebin(k_raw, Pk_raw, modes)\n",
    "    return k, Pk"
   ]
  },
  {
   "cell_type": "code",
   "execution_count": 3,
   "metadata": {},
   "outputs": [],
   "source": [
    "# relative difference\n",
    "def rel_dif(x1, y1, x2, y2):\n",
    "    # Transform x1, x2, y1, and y2 into log10 space\n",
    "    log10_x1 = np.log10(x1)\n",
    "    log10_x2 = np.log10(x2)\n",
    "    log10_y1 = np.log10(y1)\n",
    "    log10_y2 = np.log10(y2)\n",
    "\n",
    "    # Define the common log10(x) range for interpolation\n",
    "    common_log10_x_min = max(min(log10_x1), min(log10_x2))\n",
    "    common_log10_x_max = min(max(log10_x1), max(log10_x2))\n",
    "    common_log10_x = np.linspace(common_log10_x_min, common_log10_x_max, 100)\n",
    "\n",
    "    # Interpolate log10_y1 and log10_y2 to the common log10_x grid\n",
    "    interp_log10_y1 = interp1d(log10_x1, log10_y1, kind='linear')(common_log10_x)\n",
    "    interp_log10_y2 = interp1d(log10_x2, log10_y2, kind='linear')(common_log10_x)\n",
    "\n",
    "    # Transform interpolated log10 values back to the original space\n",
    "    interp_y1 = 10**interp_log10_y1\n",
    "    interp_y2 = 10**interp_log10_y2\n",
    "    common_x = 10**common_log10_x  # Transform common_log10_x back to original x values\n",
    "\n",
    "    # Compute (y2 - y1) / y1 in original space\n",
    "    delta_y = (interp_y2 - interp_y1) / interp_y1\n",
    "    return common_x, delta_y"
   ]
  },
  {
   "cell_type": "code",
   "execution_count": 4,
   "metadata": {},
   "outputs": [],
   "source": [
    "def rMAE_av_cosmo(pred_parent, sim_parent, z, n_HF):\n",
    "    Ps_pred, nz_ind = load_pred(pred_parent, z, n_HF)\n",
    "    k_sim, Ps_sim = load_sim(sim_parent, z, nz_ind)\n",
    "    # k, rAEs = rel_MAEs(k_sim, Ps_sim, k_sim, Ps_pred)\n",
    "    k, rAEs = rel_MAEs_raw(k_sim, Ps_sim, k_sim, Ps_pred)\n",
    "    rMAE_av = np.mean(rAEs, axis=0)\n",
    "\n",
    "    rAE_av_k = np.mean(rAEs, axis=1)\n",
    "    print('z=', z, rAE_av_k)\n",
    "    # print('z=', z, rAEs)\n",
    "    # min and max\n",
    "    rMAE_min, rMAE_max = np.min(rAEs, axis=0), np.max(rAEs, axis=0)\n",
    "    return k, rMAE_av, rMAE_min, rMAE_max, rAEs\n",
    "\n",
    "def load_pred(pred_parent, z, n_HF):\n",
    "    Ps_pred = []\n",
    "    nz_ind = []  # for matching sim spectra\n",
    "    for i in range(n_HF):\n",
    "        file_path = os.path.join(pred_parent, \"matter_pow_mode_z%s.txt\" % (z))\n",
    "        if os.path.exists(file_path):\n",
    "            # print(f\"The file {file_path} exists.\")\n",
    "            data = np.loadtxt(file_path,)\n",
    "            P_pred = data[i]\n",
    "            Ps_pred.append(P_pred)\n",
    "            nz_ind.append(i)\n",
    "        else:\n",
    "            print(f\"The file {file_path} does not exist.\")\n",
    "            continue\n",
    "    Ps_pred = np.array(Ps_pred)\n",
    "    return Ps_pred, nz_ind\n",
    "\n",
    "def load_sim(sim_parent, z, nz_ind):\n",
    "    file_path = os.path.join(sim_parent, 'matter_power_594_Box100_Part75_54_Box100_Part300_z%s/test_output.txt' % z)\n",
    "    k_path = os.path.join(sim_parent, 'matter_power_594_Box100_Part75_54_Box100_Part300_z%s/kf.txt' % z)\n",
    "    lg_Ps = np.loadtxt(file_path)\n",
    "    lg_Ps = lg_Ps[nz_ind]\n",
    "    Ps_sim = 10**lg_Ps\n",
    "    lg_k = np.loadtxt(k_path, usecols=(0))\n",
    "    k_sim = 10**lg_k\n",
    "    return k_sim, Ps_sim\n",
    "\n",
    "\n",
    "def rel_MAEs(x1, y1, x2, y2):\n",
    "    # Transform x1, x2, y1, and y2 into log10 space\n",
    "    log10_x1 = np.log10(x1)\n",
    "    log10_x2 = np.log10(x2)\n",
    "    log10_y1 = np.log10(y1)\n",
    "    log10_y2 = np.log10(y2)\n",
    "\n",
    "    # Define the common log10(x) range for interpolation\n",
    "    common_log10_x_min = max(min(log10_x1), min(log10_x2))\n",
    "    common_log10_x_max = min(max(log10_x1), max(log10_x2))\n",
    "    common_log10_x = np.linspace(common_log10_x_min, common_log10_x_max, 64)\n",
    "\n",
    "    # Interpolate log10_y1 and log10_y2 to the common log10_x grid\n",
    "    interp_log10_y1 = interp1d(log10_x1, log10_y1, kind='linear')(common_log10_x)\n",
    "    interp_log10_y2 = interp1d(log10_x2, log10_y2, kind='linear')(common_log10_x)\n",
    "\n",
    "    # Transform interpolated log10 values back to the original space\n",
    "    interp_y1 = 10**interp_log10_y1\n",
    "    interp_y2 = 10**interp_log10_y2\n",
    "    common_x = 10**common_log10_x  # Transform common_log10_x back to original x values\n",
    "\n",
    "    # Compute (y2 - y1) / y1 in original space\n",
    "    rMAE_y = np.abs((interp_y2 / interp_y1) - 1)\n",
    "    return common_x, rMAE_y\n",
    "\n",
    "def rel_MAEs_raw(x1, y1, x2, y2):\n",
    "\n",
    "    # Compute (y2 - y1) / y1 in original space\n",
    "    rMAE_y = np.abs((y2 / y1) - 1)\n",
    "    return x1, rMAE_y"
   ]
  },
  {
   "cell_type": "code",
   "execution_count": 5,
   "metadata": {},
   "outputs": [],
   "source": [
    "# P_pred = np.loadtxt('matter_pow_z0_l0.txt', usecols=(2))"
   ]
  },
  {
   "cell_type": "code",
   "execution_count": 10,
   "metadata": {},
   "outputs": [
    {
     "name": "stdout",
     "output_type": "stream",
     "text": [
      "z= 0 [0.05290418 0.04991402 0.0198757  0.03963183 0.02225478 0.20930828\n",
      " 0.11604797 0.0838667  0.16933359 0.04397324 0.0209551  0.04437576]\n",
      "average over k and z: 0.07270342854077141\n"
     ]
    },
    {
     "data": {
      "image/png": "[encoded data removed]",
      "text/plain": [
       "<Figure size 340x300 with 1 Axes>"
      ]
     },
     "metadata": {},
     "output_type": "display_data"
    }
   ],
   "source": [
    "# relative\n",
    "# sim_parent = \"/work2/01317/yyang440/frontera/cosmo_11p_sims/data_for_emu\" # frontera\n",
    "sim_parent = \"../../data/combined\" \n",
    "pred_parent = './'\n",
    "\n",
    "n_test = 12\n",
    "\n",
    "fig, ax = plt.subplots(figsize=(3.4,3.))\n",
    "plt.rcParams['font.family'] = 'Times New Roman'\n",
    "\n",
    "# Set math font style\n",
    "plt.rcParams['mathtext.fontset'] = 'cm'\n",
    "\n",
    "zs = np.array([0,0.2, 0.5, 1, 2, 3, 4, 9, 49, 99])\n",
    "zs_str = ['0', '0.2', '0.5', '1', '2', '3', '4', '9', '49', '99']\n",
    "a = 1/(1+zs)\n",
    "\n",
    "color_list = ['green', 'blue', 'grey', 'purple', 'cyan', 'magenta']\n",
    "\n",
    "# ax.plot([], [], color='black', label='HF')\n",
    "# # ax.plot([], [], color='black', linestyle=':', label='L1')\n",
    "# ax.plot([], [], color='black', linestyle='--', label='Linear')\n",
    "rMAE_zs = []\n",
    "\n",
    "for i, scale in enumerate(a):\n",
    "    if i==1:\n",
    "        break\n",
    "    c = color_list[i]\n",
    "    # k_L1, Pk_L1 = load_rebin(os.path.join(sim_L1, \"output/powerspectrum-%.4f.txt\" % scale))\n",
    "    # k_L2, Pk_L2 = load_rebin(os.path.join(sim_L2, \"output/powerspectrum-%.4f.txt\" % scale))\n",
    "    k, rMAE, rMAE_min, rMAE_max, rAEs = rMAE_av_cosmo(pred_parent, sim_parent, zs_str[i], n_test)\n",
    "    rMAE_zs.append(rMAE.mean())\n",
    "    # k_HF, Pk_HF = load_rebin(os.path.join(sim_HF, \"output/powerspectrum-%.4f.txt\" % scale))\n",
    "    # k_li, Pk_li = np.loadtxt(os.path.join(sim_HF, \"camb_linear/ics_matterpow_%s.dat\" % zs_str[i]), usecols=(0,1), unpack=True)\n",
    "\n",
    "    ax.plot(k, rMAE/1e-2, color=c, label=r\"$z=%.1f$\" % zs[i])\n",
    "    # ax.plot(k_li, Pk_li, '--', color=c)\n",
    "    # individual\n",
    "    # for rAE in rAEs:\n",
    "    #     ax.plot(k, rAE/1e-2, color=c, alpha=0.4)\n",
    "\n",
    "    ax.fill_between(k, rMAE_min/1e-2, rMAE_max/1e-2, facecolor=c, alpha=0.2, edgecolor='none')\n",
    "    \n",
    "rMAE_zs = np.array(rMAE_zs)\n",
    "rMAE_zs_mean = rMAE_zs.mean()\n",
    "print('average over k and z:', rMAE_zs_mean)\n",
    "    # plt.loglog(k_HF, Pk_HF, color=c, label=r\"$z=%.1f$\" % zs[i])\n",
    "    \n",
    "\n",
    "    # if labels is not None:\n",
    "\n",
    "# ax.set_ylim(.07,.5e5)\n",
    "# ax.legend(loc='best')\n",
    "# ax.set_yscale('log')\n",
    "ax.set_ylabel(r'$\\Phi_{\\mathrm{rMAE}}\\ (\\%)$')\n",
    "# plt.xlabel(r'$k\\ (h\\,\\mathrm{Mpc}^{-1})$')\n",
    "# plt.ylabel(r'$P(k)\\ (h^{-3}\\mathrm{Mpc}^3)$')\n",
    "# ax.plot([], [], color='black', label='HF')\n",
    "# ax.plot([], [], color='black', label='HF w.r.t. Linear')\n",
    "# ax.plot([], [], color='black', linestyle='--', label='L2 w.r.t. HF')\n",
    "ax.set_ylim(0., 15)\n",
    "ax.set_xscale('log')\n",
    "ax.set_xlabel(r'$k\\ (h\\,\\mathrm{Mpc}^{-1})$')\n",
    "# ax.set_ylabel(r'$(P_\\mathrm{HF}-P_\\mathrm{Li})/P_\\mathrm{Li}$')\n",
    "\n",
    "xlim1 = .02\n",
    "xlim2 = 10\n",
    "ax.set_xlim(xlim1, xlim2)\n",
    "\n",
    "square = patches.Rectangle((xlim1, -0.0), xlim2-xlim1, 5, color='orange', alpha=.3, zorder=2, label=r'$5\\%$')  # alpha ranges from 0 (transparent) to 1 (opaque)\n",
    "# square1 = patches.Rectangle((xlim1, -0.01), xlim2-xlim1, 0.02, color='blue', alpha=.3, zorder=2, label=r'$1\\%$')  # alpha ranges from 0 (transparent) to 1 (opaque)\n",
    "\n",
    "# Add the square to the axes\n",
    "ax.add_patch(square)\n",
    "# ax.add_patch(square1)\n",
    "ax.legend(loc='upper left')\n",
    "# ax.set_yticks([-0.2,-.1,0,.1,.2])\n",
    "\n",
    "# plt.xlim([0.005, 100])\n",
    "# plt.ylim([.01,4e5])\n",
    "# plt.ylim([-.3, .3])\n",
    "plt.show()\n",
    "# plt.savefig('matter_pow_nonl_linear_ratio.pdf', bbox_inches='tight')"
   ]
  },
  {
   "cell_type": "code",
   "execution_count": 20,
   "metadata": {},
   "outputs": [
    {
     "name": "stdout",
     "output_type": "stream",
     "text": [
      "z= 0 [0.05290418 0.04991402 0.0198757  0.03963183 0.02225478 0.20930828\n",
      " 0.11604797 0.0838667  0.16933359 0.04397324 0.0209551  0.04437576\n",
      " 0.01237724 0.01823009 0.0128379  0.01294421 0.00850493 0.0162052\n",
      " 0.01314244 0.00694943 0.03461618 0.00906462 0.01239819 0.01036058]\n",
      "average over k and z: 0.013969250899765837\n"
     ]
    },
    {
     "data": {
      "image/png": "[encoded data removed]",
      "text/plain": [
       "<Figure size 340x300 with 1 Axes>"
      ]
     },
     "metadata": {},
     "output_type": "display_data"
    }
   ],
   "source": [
    "# relative\n",
    "# sim_parent = \"/work2/01317/yyang440/frontera/cosmo_11p_sims/data_for_emu\" # frontera\n",
    "sim_parent = \"../../data/combined\" \n",
    "pred_parent = './'\n",
    "\n",
    "n_test = 24\n",
    "\n",
    "fig, ax = plt.subplots(figsize=(3.4,3.))\n",
    "plt.rcParams['font.family'] = 'Times New Roman'\n",
    "\n",
    "# Set math font style\n",
    "plt.rcParams['mathtext.fontset'] = 'cm'\n",
    "\n",
    "zs = np.array([0,0.2, 0.5, 1, 2, 3, 4, 9, 49, 99])\n",
    "zs_str = ['0', '0.2', '0.5', '1', '2', '3', '4', '9', '49', '99']\n",
    "a = 1/(1+zs)\n",
    "\n",
    "color_list = ['green', 'blue', 'grey', 'purple', 'cyan', 'magenta']\n",
    "\n",
    "# ax.plot([], [], color='black', label='HF')\n",
    "# # ax.plot([], [], color='black', linestyle=':', label='L1')\n",
    "# ax.plot([], [], color='black', linestyle='--', label='Linear')\n",
    "rMAE_narrow_zs = []\n",
    "\n",
    "for i, scale in enumerate(a):\n",
    "    if i==1:\n",
    "        break\n",
    "    c = color_list[i]\n",
    "    # k_L1, Pk_L1 = load_rebin(os.path.join(sim_L1, \"output/powerspectrum-%.4f.txt\" % scale))\n",
    "    # k_L2, Pk_L2 = load_rebin(os.path.join(sim_L2, \"output/powerspectrum-%.4f.txt\" % scale))\n",
    "    k, rMAE, rMAE_min, rMAE_max, rAEs = rMAE_av_cosmo(pred_parent, sim_parent, zs_str[i], n_test)\n",
    "    \n",
    "    # k_HF, Pk_HF = load_rebin(os.path.join(sim_HF, \"output/powerspectrum-%.4f.txt\" % scale))\n",
    "    # k_li, Pk_li = np.loadtxt(os.path.join(sim_HF, \"camb_linear/ics_matterpow_%s.dat\" % zs_str[i]), usecols=(0,1), unpack=True)\n",
    "    rAEs_narrow = rAEs[12:]\n",
    "    rAEs_narrow_mean = np.mean(rAEs_narrow, axis=0)\n",
    "    rAEs_narrow_min, rAEs_narrow_max = np.min(rAEs_narrow, axis=0), np.max(rAEs_narrow, axis=0)\n",
    "    rMAE_narrow_zs.append(rAEs_narrow_mean.mean())\n",
    "    ax.plot(k, rAEs_narrow_mean/1e-2, color=c, label=r\"$z=%.1f$\" % zs[i])\n",
    "    # ax.plot(k_li, Pk_li, '--', color=c)\n",
    "    # individual\n",
    "    # for rAE in rAEs:\n",
    "    #     ax.plot(k, rAE/1e-2, color=c, alpha=0.4)\n",
    "\n",
    "    ax.fill_between(k, rAEs_narrow_min/1e-2, rAEs_narrow_max/1e-2, facecolor=c, alpha=0.2, edgecolor='none')\n",
    "    \n",
    "rMAE_narrow_zs = np.array(rMAE_narrow_zs)\n",
    "rMAE_narrow_zs_mean = rMAE_narrow_zs.mean()\n",
    "print('average over k and z:', rMAE_narrow_zs_mean)\n",
    "    # plt.loglog(k_HF, Pk_HF, color=c, label=r\"$z=%.1f$\" % zs[i])\n",
    "    \n",
    "\n",
    "    # if labels is not None:\n",
    "\n",
    "# ax.set_ylim(.07,.5e5)\n",
    "# ax.legend(loc='best')\n",
    "# ax.set_yscale('log')\n",
    "ax.set_ylabel(r'$\\Phi_{\\mathrm{rMAE}}\\ (\\%)$')\n",
    "# plt.xlabel(r'$k\\ (h\\,\\mathrm{Mpc}^{-1})$')\n",
    "# plt.ylabel(r'$P(k)\\ (h^{-3}\\mathrm{Mpc}^3)$')\n",
    "# ax.plot([], [], color='black', label='HF')\n",
    "# ax.plot([], [], color='black', label='HF w.r.t. Linear')\n",
    "# ax.plot([], [], color='black', linestyle='--', label='L2 w.r.t. HF')\n",
    "ax.set_ylim(0., 15)\n",
    "ax.set_xscale('log')\n",
    "ax.set_xlabel(r'$k\\ (h\\,\\mathrm{Mpc}^{-1})$')\n",
    "# ax.set_ylabel(r'$(P_\\mathrm{HF}-P_\\mathrm{Li})/P_\\mathrm{Li}$')\n",
    "\n",
    "xlim1 = .02\n",
    "xlim2 = 10\n",
    "ax.set_xlim(xlim1, xlim2)\n",
    "\n",
    "square = patches.Rectangle((xlim1, -0.0), xlim2-xlim1, 5, color='orange', alpha=.3, zorder=2, label=r'$5\\%$')  # alpha ranges from 0 (transparent) to 1 (opaque)\n",
    "# square1 = patches.Rectangle((xlim1, -0.01), xlim2-xlim1, 0.02, color='blue', alpha=.3, zorder=2, label=r'$1\\%$')  # alpha ranges from 0 (transparent) to 1 (opaque)\n",
    "\n",
    "# Add the square to the axes\n",
    "ax.add_patch(square)\n",
    "# ax.add_patch(square1)\n",
    "ax.legend(loc='upper left')\n",
    "# ax.set_yticks([-0.2,-.1,0,.1,.2])\n",
    "\n",
    "# plt.xlim([0.005, 100])\n",
    "# plt.ylim([.01,4e5])\n",
    "# plt.ylim([-.3, .3])\n",
    "plt.show()\n",
    "# plt.savefig('matter_pow_nonl_linear_ratio.pdf', bbox_inches='tight')"
   ]
  },
  {
   "cell_type": "code",
   "execution_count": 21,
   "metadata": {},
   "outputs": [
    {
     "data": {
      "text/plain": [
       "(24, 64)"
      ]
     },
     "execution_count": 21,
     "metadata": {},
     "output_type": "execute_result"
    }
   ],
   "source": [
    "rAEs.shape"
   ]
  },
  {
   "cell_type": "code",
   "execution_count": 22,
   "metadata": {},
   "outputs": [
    {
     "data": {
      "text/plain": [
       "0.01107181696969697"
      ]
     },
     "execution_count": 22,
     "metadata": {},
     "output_type": "execute_result"
    }
   ],
   "source": [
    "(.029 * 12 *6 - (0.36909754 + 0.27648583 + 0.22550749 + 0.21557025 + 0.1765436 + 0.09405537) ) / (12 * 6 - 6)"
   ]
  },
  {
   "cell_type": "code",
   "execution_count": 23,
   "metadata": {},
   "outputs": [
    {
     "data": {
      "text/plain": [
       "0.010972778787878787"
      ]
     },
     "execution_count": 23,
     "metadata": {},
     "output_type": "execute_result"
    }
   ],
   "source": [
    "(.0335 * 13 *6 - (0.36909754 + 0.27648583 + 0.22550749 + 0.21557025 + 0.1765436 + 0.09405537) - (0.15442478 +  0.11248542 + 0.0890329 + 0.07722554 + 0.07283058 + 0.0255373) ) / (12 * 6 - 6)"
   ]
  }
 ],
 "metadata": {
  "kernelspec": {
   "display_name": "base",
   "language": "python",
   "name": "python3"
  },
  "language_info": {
   "codemirror_mode": {
    "name": "ipython",
    "version": 3
   },
   "file_extension": ".py",
   "mimetype": "text/x-python",
   "name": "python",
   "nbconvert_exporter": "python",
   "pygments_lexer": "ipython3",
   "version": "3.12.2"
  }
 },
 "nbformat": 4,
 "nbformat_minor": 4
}
