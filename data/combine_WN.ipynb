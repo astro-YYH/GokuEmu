{
 "cells": [
  {
   "cell_type": "code",
   "execution_count": 15,
   "metadata": {},
   "outputs": [],
   "source": [
    "dir_W = \"matter_power_297_Box100_Part75_27_Box100_Part300_z0.2\"\n",
    "dir_N = \"narrow/matter_power_297_Box100_Part75_27_Box100_Part300_z0.2\"\n",
    "\n",
    "dir_combined = \"combined/matter_power_594_Box100_Part75_54_Box100_Part300_z0.2\""
   ]
  },
  {
   "cell_type": "code",
   "execution_count": 16,
   "metadata": {},
   "outputs": [],
   "source": [
    "# copy all files from dir_W to dir_combined\n",
    "import os\n",
    "import shutil\n",
    "import glob\n",
    "\n",
    "if not os.path.exists(dir_combined):\n",
    "    os.makedirs(dir_combined)\n",
    "\n",
    "for file in os.listdir(dir_W):\n",
    "    # ignore directories\n",
    "    if os.path.isdir(os.path.join(dir_W, file)):\n",
    "        continue\n",
    "    shutil.copyfile(os.path.join(dir_W, file), os.path.join(dir_combined, file))\n"
   ]
  },
  {
   "cell_type": "code",
   "execution_count": 17,
   "metadata": {},
   "outputs": [],
   "source": [
    "# attach the files from dir_N to dir_combined, except for input_limits.txt and kf.txt\n",
    "\n",
    "for file in os.listdir(dir_N):\n",
    "    # ignore directories\n",
    "    if os.path.isdir(os.path.join(dir_N, file)):\n",
    "        continue\n",
    "    if file in [\"input_limits.txt\", \"kf.txt\"]:\n",
    "        continue\n",
    "    # Open the source file and the target file in append mode\n",
    "    with open(os.path.join(dir_N, file), \"r\") as src_file:\n",
    "        with open(os.path.join(dir_combined, file), \"a\") as dst_file:\n",
    "            # Process each line, skipping lines that start with '#'\n",
    "            for line in src_file:\n",
    "                if not line.startswith(\"#\"):\n",
    "                    dst_file.write(line)\n"
   ]
  },
  {
   "cell_type": "code",
   "execution_count": 18,
   "metadata": {},
   "outputs": [],
   "source": [
    "def combine_data(dir_W, dir_N, dir_combined):\n",
    "    # copy all files from dir_W to dir_combined\n",
    "    import os\n",
    "    import shutil\n",
    "\n",
    "    if not os.path.exists(dir_combined):\n",
    "        os.makedirs(dir_combined)\n",
    "\n",
    "    for file in os.listdir(dir_W):\n",
    "        # ignore directories\n",
    "        if os.path.isdir(os.path.join(dir_W, file)):\n",
    "            continue\n",
    "        shutil.copyfile(os.path.join(dir_W, file), os.path.join(dir_combined, file))\n",
    "\n",
    "    # attach the files from dir_N to dir_combined, except for input_limits.txt and kf.txt\n",
    "\n",
    "    for file in os.listdir(dir_N):\n",
    "        # ignore directories\n",
    "        if os.path.isdir(os.path.join(dir_N, file)):\n",
    "            continue\n",
    "        if file in [\"input_limits.txt\", \"kf.txt\"]:\n",
    "            continue\n",
    "        # Open the source file and the target file in append mode\n",
    "        with open(os.path.join(dir_N, file), \"r\") as src_file:\n",
    "            with open(os.path.join(dir_combined, file), \"a\") as dst_file:\n",
    "                # Process each line, skipping lines that start with '#'\n",
    "                for line in src_file:\n",
    "                    if not line.startswith(\"#\"):\n",
    "                        dst_file.write(line)"
   ]
  },
  {
   "cell_type": "code",
   "execution_count": 19,
   "metadata": {},
   "outputs": [],
   "source": [
    "for dir_w in glob.glob(\"matter_power_297_Box*_Part75_27_Box100_Part300*\"):\n",
    "    dir_n = 'narrow/' + dir_w\n",
    "    dir_combined = 'combined/' + dir_w.replace(\"297\", \"594\").replace(\"27\", \"54\")\n",
    "    combine_data(dir_w, dir_n, dir_combined)"
   ]
  },
  {
   "cell_type": "code",
   "execution_count": 20,
   "metadata": {},
   "outputs": [
    {
     "data": {
      "text/plain": [
       "1.0"
      ]
     },
     "execution_count": 20,
     "metadata": {},
     "output_type": "execute_result"
    }
   ],
   "source": [
    "0.2624734042553192 + 0.7374860928505412  -6.138256653156079e-06 + 0.000046641150792739795"
   ]
  }
 ],
 "metadata": {
  "kernelspec": {
   "display_name": "base",
   "language": "python",
   "name": "python3"
  },
  "language_info": {
   "codemirror_mode": {
    "name": "ipython",
    "version": 3
   },
   "file_extension": ".py",
   "mimetype": "text/x-python",
   "name": "python",
   "nbconvert_exporter": "python",
   "pygments_lexer": "ipython3",
   "version": "3.12.2"
  }
 },
 "nbformat": 4,
 "nbformat_minor": 2
}
