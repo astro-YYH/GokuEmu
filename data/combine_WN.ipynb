{
 "cells": [
  {
   "cell_type": "code",
   "execution_count": 1,
   "metadata": {},
   "outputs": [],
   "source": [
    "dir_W = \"matter_power_297_Box100_Part75_27_Box100_Part300_z0.2\"\n",
    "dir_N = \"narrow/matter_power_297_Box100_Part75_27_Box100_Part300_z0.2\"\n",
    "\n",
    "dir_combined = \"combined/matter_power_594_Box100_Part75_54_Box100_Part300_z0.2\""
   ]
  },
  {
   "cell_type": "code",
   "execution_count": 4,
   "metadata": {},
   "outputs": [],
   "source": [
    "# copy all files from dir_W to dir_combined\n",
    "import os\n",
    "import shutil\n",
    "\n",
    "if not os.path.exists(dir_combined):\n",
    "    os.makedirs(dir_combined)\n",
    "\n",
    "for file in os.listdir(dir_W):\n",
    "    # ignore directories\n",
    "    if os.path.isdir(os.path.join(dir_W, file)):\n",
    "        continue\n",
    "    shutil.copyfile(os.path.join(dir_W, file), os.path.join(dir_combined, file))\n"
   ]
  },
  {
   "cell_type": "code",
   "execution_count": null,
   "metadata": {},
   "outputs": [],
   "source": [
    "# attach the files from dir_N to dir_combined, except for input_limits.txt and kf.txt\n",
    "\n",
    "for file in os.listdir(dir_N):\n",
    "    # ignore directories\n",
    "    if os.path.isdir(os.path.join(dir_N, file)):\n",
    "        continue\n",
    "    if file in [\"input_limits.txt\", \"kf.txt\"]:\n",
    "        continue\n",
    "    # copy the text from the file and paste it to the corresponding file in dir_combined\n",
    "    with open(os.path.join(dir_N, file), \"r\") as f:\n",
    "        text = f.read()\n",
    "    with open(os.path.join(dir_combined, file), \"a\") as f:\n",
    "        f.write(text)\n",
    "        "
   ]
  }
 ],
 "metadata": {
  "kernelspec": {
   "display_name": "base",
   "language": "python",
   "name": "python3"
  },
  "language_info": {
   "codemirror_mode": {
    "name": "ipython",
    "version": 3
   },
   "file_extension": ".py",
   "mimetype": "text/x-python",
   "name": "python",
   "nbconvert_exporter": "python",
   "pygments_lexer": "ipython3",
   "version": "3.12.2"
  }
 },
 "nbformat": 4,
 "nbformat_minor": 2
}
